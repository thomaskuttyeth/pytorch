{
 "cells": [
  {
   "cell_type": "code",
   "execution_count": 5,
   "id": "d98e1e15",
   "metadata": {},
   "outputs": [],
   "source": [
    "from __future__ import unicode_literals,print_function,division\n",
    "from io import open \n",
    "import glob \n",
    "import os "
   ]
  },
  {
   "cell_type": "code",
   "execution_count": 6,
   "id": "0a5b1ffa",
   "metadata": {},
   "outputs": [],
   "source": [
    "def findFiles(path):return glob.glob(path)"
   ]
  },
  {
   "cell_type": "code",
   "execution_count": 8,
   "id": "3df6efb8",
   "metadata": {},
   "outputs": [
    {
     "name": "stdout",
     "output_type": "stream",
     "text": [
      "['names\\\\Arabic.txt', 'names\\\\Chinese.txt', 'names\\\\Czech.txt', 'names\\\\Dutch.txt', 'names\\\\English.txt', 'names\\\\French.txt', 'names\\\\German.txt', 'names\\\\Greek.txt', 'names\\\\Irish.txt', 'names\\\\Italian.txt', 'names\\\\Japanese.txt', 'names\\\\Korean.txt', 'names\\\\Polish.txt', 'names\\\\Portuguese.txt', 'names\\\\Russian.txt', 'names\\\\Scottish.txt', 'names\\\\Spanish.txt', 'names\\\\Vietnamese.txt']\n"
     ]
    }
   ],
   "source": [
    "print(findFiles('names/*.txt'))"
   ]
  },
  {
   "cell_type": "code",
   "execution_count": 9,
   "id": "e728a6dd",
   "metadata": {},
   "outputs": [],
   "source": [
    "import unicodedata\n",
    "import string"
   ]
  },
  {
   "cell_type": "code",
   "execution_count": 12,
   "id": "f0176ea4",
   "metadata": {},
   "outputs": [],
   "source": [
    "all_letters = string.ascii_letters+\" .,;'\"\n",
    "n_letters = len(all_letters)"
   ]
  },
  {
   "cell_type": "code",
   "execution_count": 14,
   "id": "7b0d8355",
   "metadata": {},
   "outputs": [
    {
     "data": {
      "text/plain": [
       "\"abcdefghijklmnopqrstuvwxyzABCDEFGHIJKLMNOPQRSTUVWXYZ .,;'\""
      ]
     },
     "execution_count": 14,
     "metadata": {},
     "output_type": "execute_result"
    }
   ],
   "source": [
    "all_letters"
   ]
  },
  {
   "cell_type": "code",
   "execution_count": 37,
   "id": "413bd4c6",
   "metadata": {},
   "outputs": [],
   "source": [
    "def unicode_to_ascii(s):\n",
    "    return ''.join(\n",
    "        c for c in unicodedata.normalize('NFD', s)\n",
    "        if unicodedata.category(c) != 'Mn'\n",
    "        and c in ALL_LETTERS\n",
    "    )"
   ]
  },
  {
   "cell_type": "code",
   "execution_count": 16,
   "id": "36512df6",
   "metadata": {},
   "outputs": [
    {
     "name": "stdout",
     "output_type": "stream",
     "text": [
      "Slusarski\n"
     ]
    }
   ],
   "source": [
    "print(unicodeToAscii('Ślusàrski'))"
   ]
  },
  {
   "cell_type": "code",
   "execution_count": 38,
   "id": "2ad2ab6a",
   "metadata": {},
   "outputs": [],
   "source": [
    "category_lines = {}\n",
    "all_categories = []\n",
    "\n",
    "def readLines(filename):\n",
    "    lines = open(filename,encoding = 'utf-8').read().strip().split('\\n')\n",
    "    return lines"
   ]
  },
  {
   "cell_type": "code",
   "execution_count": 39,
   "id": "c7122311",
   "metadata": {},
   "outputs": [],
   "source": [
    "for filename in findFiles('names/*.txt'):\n",
    "    category = os.path.splitext(os.path.basename(filename))[0]\n",
    "    all_categories.append(category)\n",
    "    lines = readLines(filename)\n",
    "    category_lines[category] = lines\n",
    "\n",
    "n_categories = len(all_categories)"
   ]
  },
  {
   "cell_type": "code",
   "execution_count": 40,
   "id": "73331686",
   "metadata": {},
   "outputs": [
    {
     "data": {
      "text/plain": [
       "18"
      ]
     },
     "execution_count": 40,
     "metadata": {},
     "output_type": "execute_result"
    }
   ],
   "source": [
    "n_categories"
   ]
  },
  {
   "cell_type": "code",
   "execution_count": 42,
   "id": "c11f4446",
   "metadata": {},
   "outputs": [
    {
     "name": "stdout",
     "output_type": "stream",
     "text": [
      "['Arabic', 'Chinese', 'Czech', 'Dutch', 'English', 'French', 'German', 'Greek', 'Irish', 'Italian', 'Japanese', 'Korean', 'Polish', 'Portuguese', 'Russian', 'Scottish', 'Spanish', 'Vietnamese']\n"
     ]
    }
   ],
   "source": [
    "print(all_categories)"
   ]
  },
  {
   "cell_type": "code",
   "execution_count": 48,
   "id": "d4049ce4",
   "metadata": {},
   "outputs": [],
   "source": [
    "import torch\n",
    "\n",
    "def letterToIndex(letter):\n",
    "    return all_letters.find(letter)"
   ]
  },
  {
   "cell_type": "code",
   "execution_count": 49,
   "id": "92c540a3",
   "metadata": {},
   "outputs": [
    {
     "data": {
      "text/plain": [
       "18"
      ]
     },
     "execution_count": 49,
     "metadata": {},
     "output_type": "execute_result"
    }
   ],
   "source": [
    "letterToIndex('s')"
   ]
  },
  {
   "cell_type": "code",
   "execution_count": 218,
   "id": "b6b5b7f0",
   "metadata": {},
   "outputs": [
    {
     "name": "stdout",
     "output_type": "stream",
     "text": [
      "torch.Size([5, 1, 57])\n"
     ]
    }
   ],
   "source": [
    "# Find letter index from all_letters, e.g. \"a\" = 0\n",
    "def letterToIndex(letter):\n",
    "    return all_letters.find(letter)\n",
    "\n",
    "# Just for demonstration, turn a letter into a <1 x n_letters> Tensor\n",
    "def letterToTensor(letter):\n",
    "    tensor = torch.zeros(1, n_letters)\n",
    "    tensor[0][letterToIndex(letter)] = 1\n",
    "    return tensor\n",
    "\n",
    "# Turn a line into a <line_length x 1 x n_letters>,\n",
    "# or an array of one-hot letter vectors\n",
    "def lineToTensor(line):\n",
    "    tensor = torch.zeros(len(line), 1, n_letters)\n",
    "    for li, letter in enumerate(line):\n",
    "        tensor[li][0][letterToIndex(letter)] = 1\n",
    "    return tensor\n",
    "\n",
    "# print(letterToTensor('J'))\n",
    "\n",
    "print(lineToTensor('Jones').size())"
   ]
  },
  {
   "cell_type": "code",
   "execution_count": 87,
   "id": "06023065",
   "metadata": {},
   "outputs": [
    {
     "data": {
      "text/plain": [
       "tensor([0., 0., 0., 0., 0., 0., 0., 0., 0., 0.])"
      ]
     },
     "execution_count": 87,
     "metadata": {},
     "output_type": "execute_result"
    }
   ],
   "source": [
    "tensor = torch.zeros(1,10)\n",
    "tensor[0]"
   ]
  },
  {
   "attachments": {
    "Z2xbySO.png": {
     "image/png": "[encoded data removed]"
    }
   },
   "cell_type": "markdown",
   "id": "d481fa6f",
   "metadata": {},
   "source": [
    "![Z2xbySO.png](attachment:Z2xbySO.png)"
   ]
  },
  {
   "cell_type": "code",
   "execution_count": 161,
   "id": "a25b2de1",
   "metadata": {},
   "outputs": [],
   "source": [
    "import torch.nn as nn\n",
    "class RNN(nn.Module):\n",
    "    def __init__(self,input_size,hidden_size,output_size):\n",
    "        super(RNN,self).__init__()\n",
    "        self.hidden_size = hidden_size \n",
    "        self.i2h = nn.Linear(input_size+hidden_size,hidden_size)\n",
    "        self.i2o = nn.Linear(input_size+hidden_size,output_size)\n",
    "        self.softmax = nn.LogSoftmax(dim = 1)\n",
    "    def forward(self,input,hidden):\n",
    "        combined = torch.cat((input,hidden),1)\n",
    "        hidden = self.i2h(combined)\n",
    "        output = self.i2o(combined)\n",
    "        output = self.softmax(output)\n",
    "        return output,hidden \n",
    "    def initHidden(self):\n",
    "        return torch.zeros(1,self.hidden_size)\n",
    "n_hidden = 128\n",
    "rnn = RNN(n_letters,n_hidden,n_categories)"
   ]
  },
  {
   "cell_type": "code",
   "execution_count": 164,
   "id": "4207249d",
   "metadata": {},
   "outputs": [
    {
     "data": {
      "text/plain": [
       "Linear(in_features=35, out_features=12, bias=True)"
      ]
     },
     "execution_count": 164,
     "metadata": {},
     "output_type": "execute_result"
    }
   ],
   "source": [
    "nn.Linear(23+12,12)"
   ]
  },
  {
   "cell_type": "code",
   "execution_count": null,
   "id": "0c97dfd9",
   "metadata": {},
   "outputs": [],
   "source": []
  },
  {
   "cell_type": "code",
   "execution_count": 175,
   "id": "99307eed",
   "metadata": {},
   "outputs": [
    {
     "name": "stdout",
     "output_type": "stream",
     "text": [
      "torch.Size([1, 128])\n"
     ]
    }
   ],
   "source": [
    "m = nn.Linear(185,128) # linear layer \n",
    "input_ = torch.randn(1,185)\n",
    "output = m(input_)\n",
    "print(output.size())"
   ]
  },
  {
   "cell_type": "code",
   "execution_count": 177,
   "id": "8b8a863c",
   "metadata": {},
   "outputs": [],
   "source": [
    "weight = torch.FloatTensor(185, 128).uniform_(-np.sqrt(185),np.sqrt(185))"
   ]
  },
  {
   "cell_type": "code",
   "execution_count": 178,
   "id": "fbd0b051",
   "metadata": {},
   "outputs": [
    {
     "data": {
      "text/plain": [
       "torch.Size([185, 128])"
      ]
     },
     "execution_count": 178,
     "metadata": {},
     "output_type": "execute_result"
    }
   ],
   "source": [
    "weight.shape"
   ]
  },
  {
   "cell_type": "code",
   "execution_count": 179,
   "id": "509fd271",
   "metadata": {},
   "outputs": [
    {
     "data": {
      "text/plain": [
       "torch.Size([1, 185])"
      ]
     },
     "execution_count": 179,
     "metadata": {},
     "output_type": "execute_result"
    }
   ],
   "source": [
    "input_.shape"
   ]
  },
  {
   "cell_type": "code",
   "execution_count": 182,
   "id": "d7e71ddf",
   "metadata": {},
   "outputs": [
    {
     "data": {
      "text/plain": [
       "torch.Size([1, 128])"
      ]
     },
     "execution_count": 182,
     "metadata": {},
     "output_type": "execute_result"
    }
   ],
   "source": [
    "torch.matmul(input_,weight).shape"
   ]
  },
  {
   "cell_type": "code",
   "execution_count": 185,
   "id": "c3b1dff5",
   "metadata": {},
   "outputs": [
    {
     "name": "stdout",
     "output_type": "stream",
     "text": [
      "torch.Size([1, 18])\n",
      "tensor([[-2.9906, -2.8062, -2.9136, -2.9396, -2.8104, -2.8962, -3.0116, -2.9553,\n",
      "         -2.8696, -2.9525, -2.9251, -2.8584, -2.8198, -2.8467, -2.8196, -2.9456,\n",
      "         -2.9242, -2.7816]], grad_fn=<LogSoftmaxBackward0>)\n"
     ]
    }
   ],
   "source": [
    "input_ = lineToTensor('Albert')\n",
    "hidden = torch.zeros(1,n_hidden)\n",
    "output,next_hidden = rnn(input_[0],hidden)\n",
    "print(output.shape)\n",
    "print(output)"
   ]
  },
  {
   "cell_type": "markdown",
   "id": "afc55cd7",
   "metadata": {},
   "source": [
    "output is in the shape (1,no_categories) Tensor, where every item is the likelihood of that category. \n",
    "\n",
    "Tensor.topk function can be used to get the index of the greatest value. "
   ]
  },
  {
   "cell_type": "code",
   "execution_count": 226,
   "id": "cc978876",
   "metadata": {},
   "outputs": [],
   "source": [
    "def categoryFromOutput(output):\n",
    "    top_n, top_i = output.topk(1)\n",
    "    category_i = top_i[0].item()\n",
    "    return all_categories[category_i], category_i"
   ]
  },
  {
   "cell_type": "code",
   "execution_count": 202,
   "id": "14e60dc4",
   "metadata": {},
   "outputs": [],
   "source": [
    "import random \n",
    "def randomChoice(l):\n",
    "    return l[random.randint(0,len(l)-1)]"
   ]
  },
  {
   "cell_type": "code",
   "execution_count": 207,
   "id": "c87fd9ae",
   "metadata": {},
   "outputs": [
    {
     "data": {
      "text/plain": [
       "'Russian'"
      ]
     },
     "execution_count": 207,
     "metadata": {},
     "output_type": "execute_result"
    }
   ],
   "source": [
    "randomChoice(all_categories)"
   ]
  },
  {
   "cell_type": "code",
   "execution_count": 209,
   "id": "f02a1883",
   "metadata": {},
   "outputs": [
    {
     "data": {
      "text/plain": [
       "14"
      ]
     },
     "execution_count": 209,
     "metadata": {},
     "output_type": "execute_result"
    }
   ],
   "source": [
    "all_categories.index('Russian')"
   ]
  },
  {
   "cell_type": "code",
   "execution_count": 212,
   "id": "d0905f03",
   "metadata": {},
   "outputs": [],
   "source": [
    "def randomTrainingExample():\n",
    "    category  = randomChoice(all_categories)\n",
    "    line = randomChoice(category_lines[category])\n",
    "    category_tensor = torch.tensor([all_categories.index(category)],dtype = torch.long)\n",
    "    line_tensor = lineToTensor(line)\n",
    "    return category,line,category_tensor,line_tensor"
   ]
  },
  {
   "cell_type": "code",
   "execution_count": 215,
   "id": "db954edf",
   "metadata": {},
   "outputs": [
    {
     "name": "stdout",
     "output_type": "stream",
     "text": [
      "category =  Vietnamese /line =  Chung\n",
      "category =  Vietnamese /line =  Trinh\n",
      "category =  French /line =  Rose\n",
      "category =  Polish /line =  Jaskulski\n",
      "category =  Chinese /line =  Moy\n",
      "category =  Chinese /line =  Chen\n",
      "category =  Japanese /line =  Jo\n",
      "category =  Korean /line =  Ryom\n",
      "category =  Arabic /line =  Asghar\n",
      "category =  Russian /line =  Jukhno\n"
     ]
    }
   ],
   "source": [
    "for i in range(10):\n",
    "    category,line,category_tensor,line_tensor = randomTrainingExample()\n",
    "    print('category = ',category, '/line = ', line )"
   ]
  },
  {
   "cell_type": "code",
   "execution_count": 217,
   "id": "a0bfe951",
   "metadata": {},
   "outputs": [],
   "source": [
    "criterion = nn.NLLLoss()"
   ]
  },
  {
   "cell_type": "markdown",
   "id": "beccf287",
   "metadata": {},
   "source": [
    "Each loop of training will: \n",
    "\n",
    "    * create input and target tensors \n",
    "    * create a zeroed initial hidden state \n",
    "    * Read each letter in and \n",
    "        * keep hidden state for next letter\n",
    "    * Compare final output to target \n",
    "    * Back-Propagate \n",
    "    * Return the output and loss"
   ]
  },
  {
   "cell_type": "code",
   "execution_count": 222,
   "id": "ffa6d10c",
   "metadata": {},
   "outputs": [
    {
     "data": {
      "text/plain": [
       "tensor([14])"
      ]
     },
     "execution_count": 222,
     "metadata": {},
     "output_type": "execute_result"
    }
   ],
   "source": [
    "line_tensor.size()[0]\n",
    "category_tensor"
   ]
  },
  {
   "cell_type": "code",
   "execution_count": 223,
   "id": "c4c7ffc9",
   "metadata": {},
   "outputs": [],
   "source": [
    "learning_rate = 0.001\n",
    "def train(category_tensor,line_tensor):\n",
    "    hidden = rnn.initHidden()\n",
    "    rnn.zero_grad() \n",
    "    \n",
    "    for i in range(line_tensor.size()[0]):\n",
    "        output,hidden = rnn(line_tensor[i],hidden)\n",
    "    loss = criterion(output,category_tensor)  \n",
    "    # output is a vector of 18 length, category tensor is a \n",
    "    loss.backward() \n",
    "    \n",
    "    # weight updation \n",
    "    for p in rnn.parameters():\n",
    "        p.data.add_(p.grad.data,alpha = -learning_rate)\n",
    "    \n",
    "    return output,loss.item()"
   ]
  },
  {
   "cell_type": "code",
   "execution_count": 227,
   "id": "d18749ea",
   "metadata": {},
   "outputs": [
    {
     "name": "stdout",
     "output_type": "stream",
     "text": [
      "5000 5% (0m 7s) 2.9051 Mcnab / Vietnamese ✗ (Irish)\n",
      "10000 10% (0m 15s) 2.6368 Accosi / Italian ✓\n",
      "15000 15% (0m 22s) 2.4907 Kaczka / Japanese ✗ (Polish)\n",
      "20000 20% (0m 30s) 2.1735 Reynders / Greek ✗ (Dutch)\n",
      "25000 25% (0m 38s) 2.2927 Szwedko / Polish ✓\n",
      "30000 30% (0m 46s) 1.3849 Juan / Chinese ✓\n",
      "35000 35% (0m 55s) 1.8062 Rhee / Vietnamese ✗ (Korean)\n",
      "40000 40% (1m 4s) 2.0505 Paszek / Polish ✓\n",
      "45000 45% (1m 11s) 1.9158 Kwak / Chinese ✗ (Korean)\n",
      "50000 50% (1m 19s) 1.1208 Xun / Chinese ✓\n",
      "55000 55% (1m 28s) 2.2519 Tableriou / Scottish ✗ (Greek)\n",
      "60000 60% (1m 38s) 2.3877 Kessler / German ✗ (Czech)\n",
      "65000 65% (1m 47s) 0.9955 Thao / Vietnamese ✓\n",
      "70000 70% (1m 57s) 0.6841 Son / Korean ✓\n",
      "75000 75% (2m 8s) 1.1471 Nanni / Italian ✓\n",
      "80000 80% (2m 18s) 2.8627 Horrocks / Portuguese ✗ (English)\n",
      "85000 85% (2m 28s) 0.7503 Kapsimalles / Greek ✓\n",
      "90000 90% (2m 39s) 0.9973 Ebner / German ✓\n",
      "95000 95% (2m 50s) 2.2605 Michael / German ✗ (Irish)\n",
      "100000 100% (3m 0s) 3.2679 Iemochi / Italian ✗ (Japanese)\n"
     ]
    }
   ],
   "source": [
    "import time\n",
    "import math\n",
    "\n",
    "n_iters = 100000\n",
    "print_every = 5000\n",
    "plot_every = 1000\n",
    "\n",
    "# Keep track of losses for plotting\n",
    "current_loss = 0\n",
    "all_losses = []\n",
    "\n",
    "def timeSince(since):\n",
    "    now = time.time()\n",
    "    s = now - since\n",
    "    m = math.floor(s / 60)\n",
    "    s -= m * 60\n",
    "    return '%dm %ds' % (m, s)\n",
    "\n",
    "start = time.time()\n",
    "\n",
    "for iter in range(1, n_iters + 1):\n",
    "    category, line, category_tensor, line_tensor = randomTrainingExample()\n",
    "    output, loss = train(category_tensor, line_tensor)\n",
    "    current_loss += loss\n",
    "\n",
    "    # Print iter number, loss, name and guess\n",
    "    if iter % print_every == 0:\n",
    "        guess, guess_i = categoryFromOutput(output)\n",
    "        correct = '✓' if guess == category else '✗ (%s)' % category\n",
    "        print('%d %d%% (%s) %.4f %s / %s %s' % (iter, iter / n_iters * 100, timeSince(start), loss, line, guess, correct))\n",
    "\n",
    "    # Add current loss avg to list of losses\n",
    "    if iter % plot_every == 0:\n",
    "        all_losses.append(current_loss / plot_every)\n",
    "        current_loss = 0"
   ]
  },
  {
   "cell_type": "code",
   "execution_count": 228,
   "id": "0058c40c",
   "metadata": {},
   "outputs": [
    {
     "data": {
      "text/plain": [
       "[<matplotlib.lines.Line2D at 0x228b3308e48>]"
      ]
     },
     "execution_count": 228,
     "metadata": {},
     "output_type": "execute_result"
    },
    {
     "data": {
      "image/png": "[encoded data removed]",
      "text/plain": [
       "<Figure size 432x288 with 1 Axes>"
      ]
     },
     "metadata": {
      "needs_background": "light"
     },
     "output_type": "display_data"
    }
   ],
   "source": [
    "import matplotlib.pyplot as plt\n",
    "import matplotlib.ticker as ticker\n",
    "\n",
    "plt.figure()\n",
    "plt.plot(all_losses)"
   ]
  },
  {
   "cell_type": "code",
   "execution_count": 233,
   "id": "2280f7e3",
   "metadata": {},
   "outputs": [
    {
     "name": "stderr",
     "output_type": "stream",
     "text": [
      "C:\\Users\\thoma\\Documents\\anaconda\\envs\\torchenv\\lib\\site-packages\\ipykernel_launcher.py:34: UserWarning: FixedFormatter should only be used together with FixedLocator\n",
      "C:\\Users\\thoma\\Documents\\anaconda\\envs\\torchenv\\lib\\site-packages\\ipykernel_launcher.py:35: UserWarning: FixedFormatter should only be used together with FixedLocator\n"
     ]
    },
    {
     "data": {
      "image/png": "[encoded data removed]",
      "text/plain": [
       "<Figure size 432x288 with 2 Axes>"
      ]
     },
     "metadata": {
      "needs_background": "light"
     },
     "output_type": "display_data"
    }
   ],
   "source": [
    "# Keep track of correct guesses in a confusion matrix\n",
    "confusion = torch.zeros(n_categories, n_categories)\n",
    "n_confusion = 10000\n",
    "\n",
    "# Just return an output given a line\n",
    "def evaluate(line_tensor):\n",
    "    hidden = rnn.initHidden()\n",
    "\n",
    "    for i in range(line_tensor.size()[0]):\n",
    "        output, hidden = rnn(line_tensor[i], hidden)\n",
    "\n",
    "    return output\n",
    "\n",
    "# Go through a bunch of examples and record which are correctly guessed\n",
    "for i in range(n_confusion):\n",
    "    category, line, category_tensor, line_tensor = randomTrainingExample()\n",
    "    output = evaluate(line_tensor)\n",
    "    guess, guess_i = categoryFromOutput(output)\n",
    "    category_i = all_categories.index(category)\n",
    "    confusion[category_i][guess_i] += 1\n",
    "\n",
    "# Normalize by dividing every row by its sum\n",
    "for i in range(n_categories):\n",
    "    confusion[i] = confusion[i] / confusion[i].sum()\n",
    "\n",
    "# Set up plot\n",
    "fig = plt.figure()\n",
    "\n",
    "ax = fig.add_subplot(111)\n",
    "cax = ax.matshow(confusion.numpy())\n",
    "fig.colorbar(cax)\n",
    "\n",
    "# Set up axes\n",
    "ax.set_xticklabels([''] + all_categories, rotation=90)\n",
    "ax.set_yticklabels([''] + all_categories)\n",
    "\n",
    "# Force label at every tick\n",
    "ax.xaxis.set_major_locator(ticker.MultipleLocator(1))\n",
    "ax.yaxis.set_major_locator(ticker.MultipleLocator(1))\n",
    "\n",
    "# sphinx_gallery_thumbnail_number = 2\n",
    "plt.show()"
   ]
  },
  {
   "cell_type": "code",
   "execution_count": 230,
   "id": "e93cf697",
   "metadata": {},
   "outputs": [
    {
     "name": "stdout",
     "output_type": "stream",
     "text": [
      "\n",
      "> Dovesky\n",
      "(-1.28) Polish\n",
      "(-1.46) Russian\n",
      "(-1.72) Czech\n",
      "\n",
      "> Jackson\n",
      "(-1.00) Scottish\n",
      "(-1.54) Russian\n",
      "(-2.01) English\n",
      "\n",
      "> Satoshi\n",
      "(-1.61) Italian\n",
      "(-1.79) Polish\n",
      "(-1.95) Japanese\n"
     ]
    }
   ],
   "source": [
    "def predict(input_line, n_predictions=3):\n",
    "    print('\\n> %s' % input_line)\n",
    "    with torch.no_grad():\n",
    "        output = evaluate(lineToTensor(input_line))\n",
    "\n",
    "        # Get top N categories\n",
    "        topv, topi = output.topk(n_predictions, 1, True)\n",
    "        predictions = []\n",
    "\n",
    "        for i in range(n_predictions):\n",
    "            value = topv[0][i].item()\n",
    "            category_index = topi[0][i].item()\n",
    "            print('(%.2f) %s' % (value, all_categories[category_index]))\n",
    "            predictions.append([value, all_categories[category_index]])\n",
    "\n",
    "predict('Dovesky')\n",
    "predict('Jackson')\n",
    "predict('Satoshi')"
   ]
  },
  {
   "cell_type": "code",
   "execution_count": null,
   "id": "8abbea6f",
   "metadata": {},
   "outputs": [],
   "source": []
  }
 ],
 "metadata": {
  "kernelspec": {
   "display_name": "Python 3 (ipykernel)",
   "language": "python",
   "name": "python3"
  },
  "language_info": {
   "codemirror_mode": {
    "name": "ipython",
    "version": 3
   },
   "file_extension": ".py",
   "mimetype": "text/x-python",
   "name": "python",
   "nbconvert_exporter": "python",
   "pygments_lexer": "ipython3",
   "version": "3.7.13"
  }
 },
 "nbformat": 4,
 "nbformat_minor": 5
}
