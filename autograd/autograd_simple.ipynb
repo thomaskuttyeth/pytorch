{
 "cells": [
  {
   "cell_type": "code",
   "execution_count": 1,
   "id": "36daa5e0-3563-49e5-906b-08b90142f6e5",
   "metadata": {},
   "outputs": [],
   "source": [
    "import torch"
   ]
  },
  {
   "cell_type": "code",
   "execution_count": 2,
   "id": "676e34d3-05e8-455c-a8bf-667567f9cece",
   "metadata": {},
   "outputs": [],
   "source": [
    "a = torch.tensor([5.],requires_grad = True)\n",
    "b = torch.tensor([6.],requires_grad = True) "
   ]
  },
  {
   "cell_type": "code",
   "execution_count": 3,
   "id": "30240374-e6ab-424c-8286-aaf727139880",
   "metadata": {},
   "outputs": [
    {
     "data": {
      "text/plain": [
       "tensor([89.], grad_fn=<SubBackward0>)"
      ]
     },
     "execution_count": 3,
     "metadata": {},
     "output_type": "execute_result"
    }
   ],
   "source": [
    "y = a**3-b**2   # 3a**2+2b \n",
    "y "
   ]
  },
  {
   "cell_type": "code",
   "execution_count": 4,
   "id": "0daf7e1a-20ec-4030-a3f6-d28c67d4ad98",
   "metadata": {},
   "outputs": [],
   "source": [
    "#dy/da  = 3a**2  ==> 3*25 ==> 75 \n",
    "# dy/db = -2a   ==> -2*6 ==> -12 "
   ]
  },
  {
   "cell_type": "code",
   "execution_count": 7,
   "id": "a10aab48-1640-4f4e-9191-14870feba45e",
   "metadata": {},
   "outputs": [
    {
     "data": {
      "text/plain": [
       "(None, None)"
      ]
     },
     "execution_count": 7,
     "metadata": {},
     "output_type": "execute_result"
    }
   ],
   "source": [
    "a.grad,b.grad"
   ]
  },
  {
   "cell_type": "code",
   "execution_count": 8,
   "id": "b889ffb8-6f79-43bf-9389-e5eadc292588",
   "metadata": {},
   "outputs": [],
   "source": [
    "y.backward()"
   ]
  },
  {
   "cell_type": "code",
   "execution_count": 9,
   "id": "662c8d03-ff4a-4e05-9d06-a10234fa9b44",
   "metadata": {},
   "outputs": [
    {
     "data": {
      "text/plain": [
       "tensor([75.])"
      ]
     },
     "execution_count": 9,
     "metadata": {},
     "output_type": "execute_result"
    }
   ],
   "source": [
    "a.grad"
   ]
  },
  {
   "cell_type": "code",
   "execution_count": 10,
   "id": "55e13a62-8523-4c38-80d3-3576cce98173",
   "metadata": {},
   "outputs": [
    {
     "data": {
      "text/plain": [
       "tensor([-12.])"
      ]
     },
     "execution_count": 10,
     "metadata": {},
     "output_type": "execute_result"
    }
   ],
   "source": [
    "b.grad"
   ]
  },
  {
   "cell_type": "code",
   "execution_count": 11,
   "id": "5bb92341-99f3-4b16-9b2f-054ef7b6e37f",
   "metadata": {},
   "outputs": [],
   "source": [
    "W = torch.randn(10,1,requires_grad = True)\n",
    "b = torch.randn(1,requires_grad = True)"
   ]
  },
  {
   "cell_type": "code",
   "execution_count": 12,
   "id": "ac4968f2-bf23-4a46-8290-06637a5c28c6",
   "metadata": {},
   "outputs": [
    {
     "data": {
      "text/plain": [
       "tensor([[-0.4432],\n",
       "        [-2.3795],\n",
       "        [-1.2929],\n",
       "        [ 1.1638],\n",
       "        [ 0.5061],\n",
       "        [-0.9747],\n",
       "        [-0.4549],\n",
       "        [ 0.9977],\n",
       "        [ 1.1704],\n",
       "        [-2.7091]], requires_grad=True)"
      ]
     },
     "execution_count": 12,
     "metadata": {},
     "output_type": "execute_result"
    }
   ],
   "source": [
    "W"
   ]
  },
  {
   "cell_type": "code",
   "execution_count": 13,
   "id": "3cae7615-df9d-4b2d-9171-35db4c831d85",
   "metadata": {},
   "outputs": [
    {
     "data": {
      "text/plain": [
       "tensor([1.7405], requires_grad=True)"
      ]
     },
     "execution_count": 13,
     "metadata": {},
     "output_type": "execute_result"
    }
   ],
   "source": [
    "b"
   ]
  },
  {
   "cell_type": "code",
   "execution_count": 17,
   "id": "437c9448-b35f-4ebc-af99-1916ab097508",
   "metadata": {},
   "outputs": [
    {
     "data": {
      "text/plain": [
       "tensor([[0.1212, 0.2198, 0.9216, 0.0313, 0.4312, 0.5887, 0.0465, 0.5940, 0.4852,\n",
       "         0.4910]])"
      ]
     },
     "execution_count": 17,
     "metadata": {},
     "output_type": "execute_result"
    }
   ],
   "source": [
    "x = torch.rand(1,10)\n",
    "x  # one sample with many feaures (10)"
   ]
  },
  {
   "cell_type": "code",
   "execution_count": 18,
   "id": "58c20b9f-995c-4b67-8d46-514ab868260e",
   "metadata": {},
   "outputs": [],
   "source": [
    "output = torch.matmul(x,W)+b"
   ]
  },
  {
   "cell_type": "code",
   "execution_count": 19,
   "id": "fa87b139-f0b3-4abb-8277-881b65c14db5",
   "metadata": {},
   "outputs": [
    {
     "data": {
      "text/plain": [
       "tensor([[-0.5378]], grad_fn=<AddBackward0>)"
      ]
     },
     "execution_count": 19,
     "metadata": {},
     "output_type": "execute_result"
    }
   ],
   "source": [
    "output"
   ]
  },
  {
   "cell_type": "code",
   "execution_count": 20,
   "id": "d4cccaf2-cbcd-4c86-8c69-5608eea00444",
   "metadata": {},
   "outputs": [],
   "source": [
    "loss = 1-output"
   ]
  },
  {
   "cell_type": "code",
   "execution_count": 21,
   "id": "b0ce73df-2ead-44b3-8d0c-aad4e2011cda",
   "metadata": {},
   "outputs": [
    {
     "data": {
      "text/plain": [
       "tensor([[1.5378]], grad_fn=<RsubBackward1>)"
      ]
     },
     "execution_count": 21,
     "metadata": {},
     "output_type": "execute_result"
    }
   ],
   "source": [
    "loss"
   ]
  },
  {
   "cell_type": "code",
   "execution_count": 22,
   "id": "ad5819a7-0e1b-4a20-94e7-0b6ece5ce50b",
   "metadata": {},
   "outputs": [],
   "source": [
    "loss.backward()"
   ]
  },
  {
   "cell_type": "code",
   "execution_count": 23,
   "id": "a1b0e37b-fee9-49d8-b7b5-d10c885a83fb",
   "metadata": {},
   "outputs": [
    {
     "data": {
      "text/plain": [
       "tensor([[-0.1212],\n",
       "        [-0.2198],\n",
       "        [-0.9216],\n",
       "        [-0.0313],\n",
       "        [-0.4312],\n",
       "        [-0.5887],\n",
       "        [-0.0465],\n",
       "        [-0.5940],\n",
       "        [-0.4852],\n",
       "        [-0.4910]])"
      ]
     },
     "execution_count": 23,
     "metadata": {},
     "output_type": "execute_result"
    }
   ],
   "source": [
    "W.grad"
   ]
  },
  {
   "cell_type": "code",
   "execution_count": 24,
   "id": "3055604d-83b5-4809-a704-2a7ee784a856",
   "metadata": {},
   "outputs": [
    {
     "data": {
      "text/plain": [
       "tensor([-1.])"
      ]
     },
     "execution_count": 24,
     "metadata": {},
     "output_type": "execute_result"
    }
   ],
   "source": [
    "b.grad"
   ]
  },
  {
   "cell_type": "code",
   "execution_count": 29,
   "id": "7a06498d-6701-46cd-807c-0389c61e6a2b",
   "metadata": {},
   "outputs": [],
   "source": [
    "# here i dont want to keep the gradient but just the update \n",
    "learning_rate = 0.01\n",
    "with torch.no_grad():\n",
    "    W = W-learning_rate*W.grad.data"
   ]
  },
  {
   "cell_type": "code",
   "execution_count": 30,
   "id": "ac1ef9c9-2160-4930-8ec8-ce03d6898b00",
   "metadata": {},
   "outputs": [
    {
     "data": {
      "text/plain": [
       "tensor([[-0.4420],\n",
       "        [-2.3773],\n",
       "        [-1.2837],\n",
       "        [ 1.1641],\n",
       "        [ 0.5105],\n",
       "        [-0.9688],\n",
       "        [-0.4545],\n",
       "        [ 1.0037],\n",
       "        [ 1.1752],\n",
       "        [-2.7042]])"
      ]
     },
     "execution_count": 30,
     "metadata": {},
     "output_type": "execute_result"
    }
   ],
   "source": [
    "W"
   ]
  },
  {
   "cell_type": "code",
   "execution_count": null,
   "id": "e1626081-37f4-4d92-895b-e4f1b5151bdd",
   "metadata": {},
   "outputs": [],
   "source": []
  }
 ],
 "metadata": {
  "kernelspec": {
   "display_name": "Python 3 (ipykernel)",
   "language": "python",
   "name": "python3"
  },
  "language_info": {
   "codemirror_mode": {
    "name": "ipython",
    "version": 3
   },
   "file_extension": ".py",
   "mimetype": "text/x-python",
   "name": "python",
   "nbconvert_exporter": "python",
   "pygments_lexer": "ipython3",
   "version": "3.7.13"
  }
 },
 "nbformat": 4,
 "nbformat_minor": 5
}
