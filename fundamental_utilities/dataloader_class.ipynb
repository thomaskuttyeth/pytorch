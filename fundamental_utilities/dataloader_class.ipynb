{
 "cells": [
  {
   "cell_type": "code",
   "execution_count": 15,
   "id": "2e650efa-6adf-48e6-97de-b96927580660",
   "metadata": {},
   "outputs": [],
   "source": [
    "import torch\n",
    "from sklearn.datasets import make_classification"
   ]
  },
  {
   "cell_type": "code",
   "execution_count": 16,
   "id": "5d85d201-2714-4cb7-99cf-daa3d4987e8d",
   "metadata": {},
   "outputs": [],
   "source": [
    "class Dataset:\n",
    "    def __init__(self,data,targets):\n",
    "        self.data = data\n",
    "        self.targets = targets \n",
    "        pass \n",
    "    def __len__(self):\n",
    "        return self.data.shape[0]\n",
    "    def __getitem__(self,idx):\n",
    "        current_sample = self.data[idx,:]\n",
    "        current_target = self.targets[idx] \n",
    "        return {\n",
    "            'x':torch.tensor(current_sample,dtype=torch.float),\n",
    "            'y':torch.tensor(current_target,dtype=torch.long)\n",
    "        }"
   ]
  },
  {
   "cell_type": "code",
   "execution_count": 17,
   "id": "20faac42-f71a-4432-a3d4-b448b2bc6a56",
   "metadata": {},
   "outputs": [],
   "source": [
    "data,targets = make_classification(n_samples = 1000)\n",
    "dataset = Dataset(data = data,targets = targets)"
   ]
  },
  {
   "cell_type": "code",
   "execution_count": 18,
   "id": "91865b6e-1eb7-4549-a3d1-9f4d9fd4d7a3",
   "metadata": {},
   "outputs": [
    {
     "data": {
      "text/plain": [
       "<__main__.Dataset at 0x2240e836308>"
      ]
     },
     "execution_count": 18,
     "metadata": {},
     "output_type": "execute_result"
    }
   ],
   "source": [
    "dataset"
   ]
  },
  {
   "cell_type": "code",
   "execution_count": 19,
   "id": "2be61c47-e8cd-4e82-9d16-9fc7df851e6d",
   "metadata": {},
   "outputs": [
    {
     "data": {
      "text/plain": [
       "1000"
      ]
     },
     "execution_count": 19,
     "metadata": {},
     "output_type": "execute_result"
    }
   ],
   "source": [
    "len(dataset)"
   ]
  },
  {
   "cell_type": "code",
   "execution_count": 20,
   "id": "bc8fe422-2a0f-433a-9162-a6763669f150",
   "metadata": {},
   "outputs": [
    {
     "data": {
      "text/plain": [
       "{'x': tensor([ 0.9410, -1.5528,  0.1032, -0.2015, -0.0212,  1.4049,  0.3146, -1.2391,\n",
       "          2.7178, -1.4099, -1.1567,  0.0196,  0.5056, -0.7854, -0.8496,  0.3664,\n",
       "         -0.4961,  0.6287, -0.8064,  0.4581]),\n",
       " 'y': tensor(1)}"
      ]
     },
     "execution_count": 20,
     "metadata": {},
     "output_type": "execute_result"
    }
   ],
   "source": [
    "dataset[0]"
   ]
  },
  {
   "cell_type": "code",
   "execution_count": 29,
   "id": "3b9a8761-99e4-499a-97cf-29ae2bc4be6f",
   "metadata": {},
   "outputs": [],
   "source": [
    "train_loader = torch.utils.data.DataLoader(\n",
    "    dataset,batch_size = 4)"
   ]
  },
  {
   "cell_type": "code",
   "execution_count": 30,
   "id": "beb58032-0397-48b2-b07e-37985402d8ca",
   "metadata": {},
   "outputs": [
    {
     "data": {
      "text/plain": [
       "<torch.utils.data.dataloader.DataLoader at 0x2240e830148>"
      ]
     },
     "execution_count": 30,
     "metadata": {},
     "output_type": "execute_result"
    }
   ],
   "source": [
    "train_loader"
   ]
  },
  {
   "cell_type": "code",
   "execution_count": 33,
   "id": "677ef69a-f4f8-470d-8ec1-ec7117100a2f",
   "metadata": {},
   "outputs": [
    {
     "name": "stdout",
     "output_type": "stream",
     "text": [
      "torch.Size([4, 20])\n",
      "torch.Size([4])\n"
     ]
    }
   ],
   "source": [
    "for data in train_loader:\n",
    "    print(data['x'].shape)\n",
    "    print(data['y'].shape)\n",
    "    break"
   ]
  },
  {
   "cell_type": "code",
   "execution_count": null,
   "id": "704802f0-6b6d-44eb-987f-036068934d32",
   "metadata": {},
   "outputs": [],
   "source": []
  },
  {
   "cell_type": "code",
   "execution_count": null,
   "id": "3865c630-31f3-4a17-a9a6-fac018e2d99c",
   "metadata": {},
   "outputs": [],
   "source": []
  }
 ],
 "metadata": {
  "kernelspec": {
   "display_name": "Python 3 (ipykernel)",
   "language": "python",
   "name": "python3"
  },
  "language_info": {
   "codemirror_mode": {
    "name": "ipython",
    "version": 3
   },
   "file_extension": ".py",
   "mimetype": "text/x-python",
   "name": "python",
   "nbconvert_exporter": "python",
   "pygments_lexer": "ipython3",
   "version": "3.7.13"
  }
 },
 "nbformat": 4,
 "nbformat_minor": 5
}
