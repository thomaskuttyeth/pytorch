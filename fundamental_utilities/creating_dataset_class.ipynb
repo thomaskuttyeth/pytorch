{
 "cells": [
  {
   "cell_type": "code",
   "execution_count": 44,
   "id": "57b13940-15bf-477c-a67b-4ea30daf7798",
   "metadata": {},
   "outputs": [],
   "source": [
    "import torch\n",
    "class Dataset:\n",
    "    def __init__(self,data,targets):\n",
    "        self.data = data\n",
    "        self.targets = targets \n",
    "        pass \n",
    "    def __len__(self):\n",
    "        return self.data.shape[0]\n",
    "    def __getitem__(self,idx):\n",
    "        current_sample = self.data[idx,:]\n",
    "        current_target = self.targets[idx] \n",
    "        return {\n",
    "            'x':torch.tensor(current_sample,dtype=torch.float),\n",
    "            'y':torch.tensor(current_target,dtype=torch.long)\n",
    "        }"
   ]
  },
  {
   "cell_type": "code",
   "execution_count": 45,
   "id": "a8894ad2-8431-4866-a1d2-a794f0548f2b",
   "metadata": {},
   "outputs": [],
   "source": [
    "from sklearn.datasets import make_classification"
   ]
  },
  {
   "cell_type": "code",
   "execution_count": 46,
   "id": "f13f981c-89c3-4278-9dd2-c253fb19842a",
   "metadata": {},
   "outputs": [],
   "source": [
    "data,targets = make_classification(n_samples = 1000)"
   ]
  },
  {
   "cell_type": "code",
   "execution_count": 47,
   "id": "d74829b0-3e93-4bdd-a5af-5c4994091cb7",
   "metadata": {},
   "outputs": [],
   "source": [
    "dataset = Dataset(data = data,targets = targets)"
   ]
  },
  {
   "cell_type": "code",
   "execution_count": 48,
   "id": "65953626-7287-4012-84b7-839bcde949c9",
   "metadata": {},
   "outputs": [
    {
     "data": {
      "text/plain": [
       "<__main__.Dataset at 0x1fc91acc408>"
      ]
     },
     "execution_count": 48,
     "metadata": {},
     "output_type": "execute_result"
    }
   ],
   "source": [
    "dataset  # Dataset instance "
   ]
  },
  {
   "cell_type": "code",
   "execution_count": 49,
   "id": "46aeee4d-5a89-4ae2-b778-4bf75eff3ab5",
   "metadata": {},
   "outputs": [
    {
     "data": {
      "text/plain": [
       "1000"
      ]
     },
     "execution_count": 49,
     "metadata": {},
     "output_type": "execute_result"
    }
   ],
   "source": [
    "len(dataset)   # length of the dataset"
   ]
  },
  {
   "cell_type": "code",
   "execution_count": 52,
   "id": "a89f308c-7531-43f4-aed8-ad1abfe084e7",
   "metadata": {},
   "outputs": [
    {
     "data": {
      "text/plain": [
       "{'x': tensor([ 1.8365, -2.1256, -0.7875,  1.9626, -1.7215, -1.9969,  0.9899, -0.9604,\n",
       "          0.3998,  1.5551,  0.0197, -0.5710,  0.0728,  0.6005,  0.0424,  0.8199,\n",
       "         -0.7370, -0.1486,  1.6432, -1.1038]),\n",
       " 'y': tensor(0)}"
      ]
     },
     "execution_count": 52,
     "metadata": {},
     "output_type": "execute_result"
    }
   ],
   "source": [
    "dataset[4]  # getting the fourth instance of the dataset "
   ]
  },
  {
   "cell_type": "code",
   "execution_count": 54,
   "id": "ccf854b3-37bc-4720-9a10-c3a16ff3c243",
   "metadata": {},
   "outputs": [
    {
     "name": "stdout",
     "output_type": "stream",
     "text": [
      "{'x': tensor([ 0.1476, -0.7171,  0.1692, -0.4618, -1.4546, -0.7929,  0.8936, -0.8815,\n",
      "        -0.6750, -1.0515, -2.1775, -0.2328,  1.6372, -1.2094, -0.6847,  0.3450,\n",
      "         0.7560,  0.8819,  0.0370, -0.9338]), 'y': tensor(0)}\n"
     ]
    }
   ],
   "source": [
    "# looping over the dataset\n",
    "for idx in range(len(dataset)):\n",
    "    print(dataset[idx])\n",
    "    break"
   ]
  },
  {
   "cell_type": "code",
   "execution_count": null,
   "id": "c72e411f-66ed-43d1-b148-a1450c59f53a",
   "metadata": {},
   "outputs": [],
   "source": []
  }
 ],
 "metadata": {
  "kernelspec": {
   "display_name": "Python 3 (ipykernel)",
   "language": "python",
   "name": "python3"
  },
  "language_info": {
   "codemirror_mode": {
    "name": "ipython",
    "version": 3
   },
   "file_extension": ".py",
   "mimetype": "text/x-python",
   "name": "python",
   "nbconvert_exporter": "python",
   "pygments_lexer": "ipython3",
   "version": "3.7.13"
  }
 },
 "nbformat": 4,
 "nbformat_minor": 5
}
