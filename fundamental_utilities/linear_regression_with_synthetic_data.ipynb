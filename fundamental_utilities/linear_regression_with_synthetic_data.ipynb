{
 "cells": [
  {
   "cell_type": "code",
   "execution_count": 47,
   "id": "14708a15-4fa8-417b-9679-f4b116ea3764",
   "metadata": {},
   "outputs": [],
   "source": [
    "from sklearn.datasets import make_classification\n",
    "import torch \n",
    "from sklearn.model_selection import train_test_split \n",
    "from sklearn import metrics"
   ]
  },
  {
   "cell_type": "code",
   "execution_count": 2,
   "id": "c9553e5f-4bde-42da-84f9-1a7aad6552e5",
   "metadata": {},
   "outputs": [],
   "source": [
    "class Dataset:\n",
    "    def __init__(self,data,targets):\n",
    "        self.data = data\n",
    "        self.targets = targets \n",
    "        pass \n",
    "    def __len__(self):\n",
    "        return self.data.shape[0]\n",
    "    def __getitem__(self,idx):\n",
    "        current_sample = self.data[idx,:]\n",
    "        current_target = self.targets[idx] \n",
    "        return {\n",
    "            'x':torch.tensor(current_sample,dtype=torch.float),\n",
    "            'y':torch.tensor(current_target,dtype=torch.long)\n",
    "        }"
   ]
  },
  {
   "cell_type": "code",
   "execution_count": 3,
   "id": "e98cd16f-25d9-42b7-9cb8-99bd104e8012",
   "metadata": {},
   "outputs": [],
   "source": [
    "data,targets = make_classification(n_samples = 1000)\n",
    "train_data,test_data,train_targets,test_targets = train_test_split(\n",
    "    data,targets,stratify=targets\n",
    ")"
   ]
  },
  {
   "cell_type": "code",
   "execution_count": 44,
   "id": "62a6a129-3ab0-4a96-b605-83ad16556819",
   "metadata": {},
   "outputs": [
    {
     "data": {
      "text/plain": [
       "array([[ 1.12030407,  1.15004837,  1.21756101, ...,  0.38137646,\n",
       "        -0.51325419, -0.53294696],\n",
       "       [-0.07348904, -0.95324949,  1.10220023, ..., -1.21488878,\n",
       "         1.38240959, -0.38437062],\n",
       "       [-0.01462729,  0.80129302,  0.33044084, ..., -1.21414139,\n",
       "        -0.02867313, -0.92843721],\n",
       "       ...,\n",
       "       [-0.3778997 , -1.25156142,  0.55682808, ..., -0.7902278 ,\n",
       "        -0.507496  ,  0.73708696],\n",
       "       [-0.94891135, -2.05810035, -0.52545324, ...,  0.10660797,\n",
       "        -1.5077214 , -1.36364591],\n",
       "       [-0.48816656, -0.40179273,  0.14988661, ..., -0.57739256,\n",
       "        -2.01802656, -0.8430597 ]])"
      ]
     },
     "execution_count": 44,
     "metadata": {},
     "output_type": "execute_result"
    }
   ],
   "source": [
    "train_data"
   ]
  },
  {
   "cell_type": "code",
   "execution_count": 45,
   "id": "a5a421f4-bcb6-4d49-a742-674af2ca6762",
   "metadata": {},
   "outputs": [
    {
     "data": {
      "text/plain": [
       "array([1, 0, 1, 0, 1, 0, 0, 1, 1, 0, 1, 1, 1, 1, 1, 1, 0, 0, 0, 0, 1, 0,\n",
       "       0, 0, 1, 1, 1, 1, 1, 0, 1, 1, 0, 0, 0, 1, 1, 0, 1, 0, 0, 0, 0, 0,\n",
       "       1, 0, 0, 0, 1, 0, 1, 0, 1, 1, 0, 0, 0, 0, 0, 1, 0, 0, 1, 0, 0, 0,\n",
       "       1, 1, 0, 1, 0, 1, 1, 0, 1, 1, 1, 0, 0, 1, 0, 0, 0, 1, 1, 1, 1, 1,\n",
       "       0, 0, 0, 1, 0, 0, 0, 1, 1, 0, 1, 0, 0, 0, 0, 1, 1, 0, 0, 1, 0, 1,\n",
       "       1, 0, 1, 0, 1, 0, 1, 0, 0, 0, 0, 0, 1, 0, 0, 1, 0, 0, 0, 1, 1, 0,\n",
       "       0, 1, 1, 0, 0, 0, 0, 0, 1, 1, 1, 1, 0, 1, 0, 0, 1, 1, 1, 1, 0, 0,\n",
       "       1, 0, 1, 1, 0, 0, 1, 1, 0, 0, 0, 0, 0, 1, 0, 1, 1, 0, 1, 1, 0, 0,\n",
       "       0, 1, 0, 0, 1, 1, 0, 0, 0, 1, 0, 1, 0, 0, 1, 1, 0, 1, 0, 1, 0, 1,\n",
       "       0, 1, 0, 1, 1, 0, 0, 0, 1, 0, 0, 0, 0, 0, 0, 1, 0, 0, 0, 0, 0, 1,\n",
       "       0, 0, 1, 1, 0, 0, 1, 1, 1, 0, 0, 0, 1, 0, 1, 0, 1, 0, 1, 0, 0, 0,\n",
       "       0, 0, 1, 1, 1, 0, 0, 1, 0, 1, 0, 1, 0, 1, 0, 1, 1, 1, 1, 1, 1, 1,\n",
       "       0, 0, 0, 0, 0, 0, 1, 0, 1, 0, 1, 0, 0, 0, 0, 1, 0, 0, 1, 0, 0, 0,\n",
       "       0, 1, 1, 1, 0, 1, 1, 1, 0, 1, 1, 1, 1, 1, 1, 1, 1, 1, 1, 0, 1, 0,\n",
       "       1, 0, 0, 0, 1, 1, 1, 1, 1, 0, 0, 1, 1, 1, 0, 1, 0, 1, 1, 0, 0, 1,\n",
       "       1, 0, 1, 0, 1, 0, 0, 0, 0, 0, 0, 1, 1, 0, 1, 1, 1, 0, 0, 1, 1, 0,\n",
       "       0, 0, 0, 1, 1, 0, 1, 0, 1, 0, 0, 1, 0, 1, 0, 1, 0, 0, 0, 1, 1, 1,\n",
       "       0, 1, 0, 0, 1, 1, 1, 0, 1, 1, 1, 0, 0, 1, 0, 1, 0, 1, 1, 1, 1, 0,\n",
       "       1, 1, 1, 1, 0, 1, 0, 0, 0, 0, 1, 0, 1, 0, 0, 0, 1, 0, 1, 0, 1, 1,\n",
       "       1, 1, 0, 1, 1, 1, 1, 0, 1, 0, 0, 1, 1, 0, 1, 1, 1, 0, 0, 1, 1, 0,\n",
       "       1, 1, 1, 1, 1, 1, 0, 1, 1, 1, 1, 1, 0, 0, 1, 0, 1, 0, 0, 1, 1, 1,\n",
       "       0, 1, 1, 0, 1, 0, 1, 1, 1, 1, 0, 1, 0, 1, 0, 1, 1, 1, 1, 0, 0, 1,\n",
       "       1, 1, 0, 0, 1, 1, 1, 0, 1, 0, 0, 1, 0, 0, 0, 1, 0, 1, 0, 0, 1, 1,\n",
       "       1, 1, 0, 0, 1, 0, 1, 0, 1, 0, 1, 1, 0, 0, 0, 1, 1, 1, 1, 1, 1, 0,\n",
       "       0, 0, 1, 1, 0, 0, 0, 0, 0, 0, 1, 0, 1, 0, 1, 1, 1, 1, 0, 1, 1, 1,\n",
       "       1, 1, 1, 1, 0, 0, 0, 0, 1, 0, 0, 1, 0, 0, 1, 0, 0, 0, 1, 1, 1, 1,\n",
       "       1, 1, 1, 0, 1, 0, 0, 1, 1, 0, 0, 0, 1, 1, 1, 1, 0, 1, 0, 1, 1, 1,\n",
       "       1, 0, 1, 0, 1, 1, 0, 0, 0, 0, 0, 0, 1, 0, 1, 0, 0, 1, 1, 0, 0, 1,\n",
       "       1, 1, 0, 0, 1, 1, 0, 1, 1, 1, 1, 0, 1, 0, 1, 0, 1, 0, 0, 0, 0, 0,\n",
       "       1, 0, 1, 0, 0, 1, 0, 0, 1, 0, 1, 0, 1, 1, 1, 0, 0, 1, 1, 0, 1, 1,\n",
       "       1, 0, 0, 1, 1, 0, 0, 0, 1, 1, 0, 1, 0, 1, 0, 0, 1, 0, 0, 1, 1, 0,\n",
       "       0, 1, 0, 1, 0, 0, 0, 0, 0, 0, 1, 0, 1, 1, 1, 0, 1, 0, 1, 0, 1, 0,\n",
       "       0, 0, 0, 0, 1, 0, 1, 1, 1, 1, 0, 1, 0, 1, 0, 0, 0, 1, 1, 0, 0, 1,\n",
       "       0, 1, 0, 0, 0, 1, 0, 1, 1, 0, 0, 1, 0, 0, 0, 1, 0, 1, 1, 1, 1, 0,\n",
       "       0, 0])"
      ]
     },
     "execution_count": 45,
     "metadata": {},
     "output_type": "execute_result"
    }
   ],
   "source": [
    "train_targets"
   ]
  },
  {
   "cell_type": "code",
   "execution_count": 4,
   "id": "5625946f-f3d2-4132-a930-b6a4f1e5e26a",
   "metadata": {},
   "outputs": [
    {
     "data": {
      "text/plain": [
       "(750,)"
      ]
     },
     "execution_count": 4,
     "metadata": {},
     "output_type": "execute_result"
    }
   ],
   "source": [
    "train_data.shape\n",
    "train_targets.shape"
   ]
  },
  {
   "cell_type": "code",
   "execution_count": 5,
   "id": "340f36d7-8f17-4423-be20-d11dead0142d",
   "metadata": {},
   "outputs": [],
   "source": [
    "train_dataset = Dataset(train_data,train_targets)\n",
    "test_dataset = Dataset(test_data,test_targets)\n",
    "\n",
    "train_loader = torch.utils.data.DataLoader(\n",
    "    train_dataset,batch_size = 4)\n",
    "\n",
    "test_loader = torch.utils.data.DataLoader(\n",
    "    test_dataset,batch_size = 4)"
   ]
  },
  {
   "cell_type": "code",
   "execution_count": 6,
   "id": "12f46d83-4575-4481-be87-9d674f49c15f",
   "metadata": {},
   "outputs": [],
   "source": [
    "model = lambda x, w, b: torch.matmul(x,w)+b  # just a function "
   ]
  },
  {
   "cell_type": "code",
   "execution_count": 7,
   "id": "a0ef0afb-0631-4242-aa9a-5c072e30d1c6",
   "metadata": {},
   "outputs": [
    {
     "data": {
      "text/plain": [
       "(750, 20)"
      ]
     },
     "execution_count": 7,
     "metadata": {},
     "output_type": "execute_result"
    }
   ],
   "source": [
    "train_data.shape"
   ]
  },
  {
   "cell_type": "code",
   "execution_count": 8,
   "id": "5f23523c-a285-4f12-9562-12c66be8d42c",
   "metadata": {},
   "outputs": [],
   "source": [
    "W = torch.randn(20,1,requires_grad = True)\n",
    "b = torch.randn(1,requires_grad = True)\n",
    "learning_rate = 0.001 "
   ]
  },
  {
   "cell_type": "code",
   "execution_count": 9,
   "id": "ce6eb01a-2fbd-46da-9499-ada77d8ac9b8",
   "metadata": {},
   "outputs": [
    {
     "data": {
      "text/plain": [
       "tensor([[ 1.4352],\n",
       "        [-1.2655],\n",
       "        [-0.9921],\n",
       "        [ 0.0732],\n",
       "        [-0.4961],\n",
       "        [ 2.6431],\n",
       "        [ 0.8998],\n",
       "        [ 0.2379],\n",
       "        [-0.9884],\n",
       "        [ 1.7659],\n",
       "        [-0.3769],\n",
       "        [-0.1246],\n",
       "        [ 2.3644],\n",
       "        [ 1.2844],\n",
       "        [ 0.5269],\n",
       "        [-0.8863],\n",
       "        [-0.1474],\n",
       "        [-0.8642],\n",
       "        [-0.9187],\n",
       "        [ 1.0975]], requires_grad=True)"
      ]
     },
     "execution_count": 9,
     "metadata": {},
     "output_type": "execute_result"
    }
   ],
   "source": [
    "W # initial weights "
   ]
  },
  {
   "cell_type": "code",
   "execution_count": 10,
   "id": "f6954808-cee5-4003-91f0-e99ee84cbe70",
   "metadata": {},
   "outputs": [
    {
     "data": {
      "text/plain": [
       "tensor([-0.3119], requires_grad=True)"
      ]
     },
     "execution_count": 10,
     "metadata": {},
     "output_type": "execute_result"
    }
   ],
   "source": [
    "b # initial bias "
   ]
  },
  {
   "cell_type": "code",
   "execution_count": 36,
   "id": "3b443079-b6ef-489e-b31c-077f2e148f98",
   "metadata": {},
   "outputs": [
    {
     "name": "stdout",
     "output_type": "stream",
     "text": [
      "epoch = 0,loss=0.11973459273576736\n",
      "epoch = 1,loss=0.1197320967912674\n",
      "epoch = 2,loss=0.11972980201244354\n",
      "epoch = 3,loss=0.11972777545452118\n",
      "epoch = 4,loss=0.11972599476575851\n",
      "epoch = 5,loss=0.11972484737634659\n",
      "epoch = 6,loss=0.11972354352474213\n",
      "epoch = 7,loss=0.11972267925739288\n",
      "epoch = 8,loss=0.11972200870513916\n",
      "epoch = 9,loss=0.11972139775753021\n"
     ]
    }
   ],
   "source": [
    "for epoch in range(10):\n",
    "    epoch_loss = 0 \n",
    "    for data in train_loader:\n",
    "        xtrain = data['x']\n",
    "        ytrain = data['y']\n",
    "        # making the gradient of the W to none for each epochs \n",
    "        if W.grad is not None:\n",
    "            W.grad_zero_()\n",
    "        \n",
    "        output = model(xtrain,W,b)\n",
    "        loss = torch.mean((ytrain.view(-1)-output.view(-1))**2)\n",
    "        epoch_loss = epoch_loss+loss.item()\n",
    "        counter = 0 \n",
    "        # calculating the gradients from autograd \n",
    "        loss.backward() \n",
    "        \n",
    "        with torch.no_grad(): # temporarily disable requires grad for Weights and bias\n",
    "            W = W - learning_rate*W.grad \n",
    "            b = b - learning_rate*b.grad \n",
    "            \n",
    "        # regreshing the required grad for W and b \n",
    "        W.requires_grad_(True)\n",
    "        b.requires_grad_(True)\n",
    "        counter +=1 \n",
    "    print('epoch = {},loss={}'.format(epoch,loss/counter))"
   ]
  },
  {
   "cell_type": "code",
   "execution_count": 12,
   "id": "a1062950-5251-4e25-99d3-3b69b7ee6a6f",
   "metadata": {},
   "outputs": [
    {
     "data": {
      "text/plain": [
       "tensor([[ 7.3365e-02],\n",
       "        [ 8.3213e-01],\n",
       "        [-1.3923e-02],\n",
       "        [ 1.5217e-04],\n",
       "        [-1.4097e-02],\n",
       "        [ 1.3479e+00],\n",
       "        [ 1.2337e+00],\n",
       "        [ 7.0434e-01],\n",
       "        [-3.8483e-03],\n",
       "        [ 5.1357e-02],\n",
       "        [ 2.0053e-02],\n",
       "        [-1.3954e-02],\n",
       "        [ 5.5177e-02],\n",
       "        [ 2.9329e-02],\n",
       "        [-1.7796e-02],\n",
       "        [-3.3479e-02],\n",
       "        [-7.5707e-03],\n",
       "        [-3.7164e-02],\n",
       "        [-3.2864e-02],\n",
       "        [-2.7959e-03]], requires_grad=True)"
      ]
     },
     "execution_count": 12,
     "metadata": {},
     "output_type": "execute_result"
    }
   ],
   "source": [
    "W  # final weights after traning"
   ]
  },
  {
   "cell_type": "code",
   "execution_count": 18,
   "id": "81c89517-132d-4f66-9498-76ae1618f458",
   "metadata": {},
   "outputs": [
    {
     "data": {
      "text/plain": [
       "tensor([0.4659], requires_grad=True)"
      ]
     },
     "execution_count": 18,
     "metadata": {},
     "output_type": "execute_result"
    }
   ],
   "source": [
    "b  # bias after training"
   ]
  },
  {
   "cell_type": "code",
   "execution_count": 37,
   "id": "461265da-52a0-4bb8-a835-f5639195ace2",
   "metadata": {},
   "outputs": [
    {
     "data": {
      "text/plain": [
       "(torch.Size([20, 1]), torch.Size([2, 20]))"
      ]
     },
     "execution_count": 37,
     "metadata": {},
     "output_type": "execute_result"
    }
   ],
   "source": [
    "W.shape,xtrain.shape  # checking the dimensions \n",
    "# four instances are there in xtrain  ==> we got two outputs \n",
    "# two hear represents the no of samples in the final epoch \n",
    "# ( instance multiplied with random weights for each feature ) "
   ]
  },
  {
   "cell_type": "code",
   "execution_count": 15,
   "id": "fcab8326-b105-4f9f-91f5-e92bdc9bc485",
   "metadata": {},
   "outputs": [],
   "source": [
    "# making predictions on the test data\n",
    "outputs = []\n",
    "labels = []\n",
    "with torch.no_grad():\n",
    "    for data in test_loader:\n",
    "        xtest = data['x']\n",
    "        ytest = data['y']\n",
    "        \n",
    "        output = model(xtest,W,b)\n",
    "        labels.append(ytest) \n",
    "        outputs.append(output)"
   ]
  },
  {
   "cell_type": "code",
   "execution_count": 46,
   "id": "5615f6bc-1fad-4bc9-8300-1fe2d3d932d2",
   "metadata": {},
   "outputs": [
    {
     "data": {
      "text/plain": [
       "(tensor([ 0.2914,  0.6227,  0.2883,  0.7466,  0.2939,  0.6568,  0.1949,  0.4300,\n",
       "          0.7986,  0.7202,  0.0422,  0.0274,  0.5017,  0.1513,  1.2566,  0.1933,\n",
       "          0.0547,  0.4170, -0.2921,  0.8541,  0.3099,  0.2945,  0.5455,  0.4948,\n",
       "          0.8270,  0.5150,  0.8282,  0.3797,  0.1005,  0.4720,  0.0543,  0.9408,\n",
       "          0.2154,  0.0179,  0.7617,  0.1655,  0.5674,  0.2801,  0.2001,  0.6335,\n",
       "         -0.0286,  0.3925,  0.6134,  0.5484, -0.0274,  0.7407, -0.4796,  0.2276,\n",
       "          0.0014, -0.4138,  1.0513,  0.7227, -0.2328,  0.1688,  0.0553,  0.6939,\n",
       "          0.4036,  0.4616,  0.3137,  0.4772,  0.2093,  0.8935,  0.4533,  0.7997,\n",
       "         -0.0215,  0.2858,  0.3285,  0.5770,  0.8773,  0.6491,  1.2390,  0.2769,\n",
       "          1.0550,  0.7820,  1.2788,  0.7416,  1.0069,  0.3476,  0.1344, -0.3290,\n",
       "          1.1308,  0.8306,  0.3426,  0.1804, -0.3826,  0.8540,  0.7587,  1.0753,\n",
       "         -0.0478,  0.7505,  0.0383,  0.4375,  0.1368,  1.1615,  0.6789,  0.2199,\n",
       "          0.8149,  0.2379,  0.4138,  0.2997,  0.1409,  0.7178, -0.1399,  0.1697,\n",
       "          0.3849,  0.8788,  0.6048,  0.8015,  0.3384, -0.1797,  1.1281,  0.8873,\n",
       "          0.6838,  0.1357,  0.1353,  0.7532,  1.0227, -0.2909,  0.2505,  0.8554,\n",
       "          0.2906,  0.3197,  1.2861,  0.0118, -0.0935,  0.2460,  0.2355,  0.9585,\n",
       "          1.1888,  0.1682,  0.1368,  0.9665,  0.5504, -0.1966,  0.8388,  0.0234,\n",
       "          0.8332,  1.0139,  0.0051,  0.9880,  0.7365, -0.5114,  0.8745,  0.8024,\n",
       "          0.8507,  0.1994,  0.7493,  0.8348,  0.3814,  0.0911, -0.1337,  0.2897,\n",
       "          0.2494,  0.8975,  0.4495, -0.0566, -0.0021,  0.5995,  0.7267,  0.7590,\n",
       "          0.8775,  0.9852, -0.0818, -0.0578,  0.8619,  0.1277, -0.0367,  0.1998,\n",
       "         -0.0783,  0.6516,  0.5324,  0.1416,  0.9381,  0.3854,  0.0913,  0.3581,\n",
       "          0.6471, -0.3620,  0.4705,  0.6347,  0.0767,  0.9491,  0.9051,  0.2522,\n",
       "          0.8284,  0.9515,  1.0179,  0.2036,  0.7160,  0.6401, -0.0974,  0.5952,\n",
       "          1.0030,  0.6411,  0.5406, -0.3455,  0.1589,  0.8390,  0.7689,  0.6072,\n",
       "          0.2083,  0.0200,  1.1865,  0.9875,  0.0406,  0.0899,  0.0285,  0.6339,\n",
       "          0.1192, -0.3426,  0.9131, -0.0644,  0.3972,  0.9059,  0.6760,  0.3901,\n",
       "          0.7205,  1.0235,  0.9103,  0.8822,  1.0383,  0.2318,  0.1658,  1.0108,\n",
       "         -0.0606,  0.9004,  0.7250,  0.9967, -0.1420,  0.2500,  0.5854,  0.8567,\n",
       "         -0.1700,  0.0341,  0.7667,  1.0330,  0.0459,  0.0856, -0.3044,  0.1408,\n",
       "         -0.0054,  0.9655,  0.9291,  0.7719,  0.2549,  0.3582,  0.7659,  1.0082,\n",
       "          0.0384,  0.1153]),\n",
       " tensor([0, 1, 0, 0, 0, 1, 0, 1, 1, 1, 0, 0, 1, 0, 1, 0, 0, 0, 0, 1, 0, 0, 1, 1,\n",
       "         1, 1, 1, 1, 0, 1, 0, 1, 0, 0, 1, 0, 1, 0, 0, 1, 0, 1, 1, 1, 0, 1, 0, 0,\n",
       "         0, 0, 1, 1, 0, 0, 0, 1, 0, 1, 0, 0, 0, 1, 0, 1, 0, 1, 0, 1, 1, 1, 1, 0,\n",
       "         1, 1, 1, 1, 1, 0, 0, 0, 1, 1, 0, 0, 0, 1, 1, 1, 0, 1, 0, 1, 0, 1, 1, 0,\n",
       "         1, 0, 0, 1, 0, 1, 0, 0, 1, 1, 1, 1, 0, 0, 1, 1, 1, 0, 0, 1, 1, 0, 0, 1,\n",
       "         0, 0, 1, 0, 0, 0, 0, 1, 1, 0, 0, 1, 1, 0, 1, 0, 1, 1, 0, 1, 1, 0, 1, 1,\n",
       "         1, 0, 1, 1, 0, 0, 0, 0, 0, 1, 1, 0, 0, 0, 1, 1, 1, 1, 0, 0, 1, 0, 0, 0,\n",
       "         0, 1, 1, 0, 1, 0, 0, 0, 1, 0, 0, 1, 0, 1, 1, 0, 1, 1, 1, 0, 0, 1, 0, 1,\n",
       "         1, 1, 1, 0, 0, 1, 1, 1, 0, 0, 1, 1, 0, 0, 0, 1, 0, 0, 1, 0, 0, 1, 1, 0,\n",
       "         1, 1, 1, 1, 1, 0, 0, 1, 0, 1, 1, 1, 0, 0, 1, 1, 0, 0, 1, 1, 0, 0, 0, 0,\n",
       "         0, 1, 1, 1, 0, 0, 1, 1, 0, 0]))"
      ]
     },
     "execution_count": 46,
     "metadata": {},
     "output_type": "execute_result"
    }
   ],
   "source": [
    "torch.cat(outputs).view(-1),torch.cat(labels).view(-1)"
   ]
  },
  {
   "cell_type": "code",
   "execution_count": 49,
   "id": "7eacf64e-551d-4221-ac19-dac84c6f3dab",
   "metadata": {},
   "outputs": [
    {
     "data": {
      "text/plain": [
       "0.987776"
      ]
     },
     "execution_count": 49,
     "metadata": {},
     "output_type": "execute_result"
    }
   ],
   "source": [
    "metrics.roc_auc_score(torch.cat(labels).view(-1),torch.cat(outputs).view(-1))"
   ]
  },
  {
   "cell_type": "code",
   "execution_count": null,
   "id": "3d9a8ea2-9cf8-47ea-bb41-78204508368c",
   "metadata": {},
   "outputs": [],
   "source": []
  }
 ],
 "metadata": {
  "kernelspec": {
   "display_name": "Python 3 (ipykernel)",
   "language": "python",
   "name": "python3"
  },
  "language_info": {
   "codemirror_mode": {
    "name": "ipython",
    "version": 3
   },
   "file_extension": ".py",
   "mimetype": "text/x-python",
   "name": "python",
   "nbconvert_exporter": "python",
   "pygments_lexer": "ipython3",
   "version": "3.7.13"
  }
 },
 "nbformat": 4,
 "nbformat_minor": 5
}
