{
 "cells": [
  {
   "cell_type": "code",
   "execution_count": null,
   "id": "3b45a21e-c51c-49d5-8142-81f232dc83c3",
   "metadata": {},
   "outputs": [],
   "source": [
    "def train_one_step(model,data,optimizer):\n",
    "    optimizer.zero_grad() \n",
    "    loss = model(data['x'],y = data['y'])\n",
    "    loss.backward() \n",
    "    optimizer.step() \n",
    "    return loss"
   ]
  },
  {
   "cell_type": "code",
   "execution_count": 1,
   "id": "28c296d3-110a-4efb-b77f-9f0af7ae14d9",
   "metadata": {},
   "outputs": [],
   "source": [
    "def train_one_epoch(model,data_loader,optimizer):\n",
    "    model.train()\n",
    "    total_loss = 0 \n",
    "    for batch_index,data in enumerate(data_loader):\n",
    "        loss = train_one_step(model,data,optimizer)\n",
    "        total_loss +=loss \n",
    "    return total_loss"
   ]
  },
  {
   "cell_type": "code",
   "execution_count": null,
   "id": "00f0628e-2ea7-4143-999c-096264bf46f8",
   "metadata": {},
   "outputs": [],
   "source": []
  }
 ],
 "metadata": {
  "kernelspec": {
   "display_name": "Python 3 (ipykernel)",
   "language": "python",
   "name": "python3"
  },
  "language_info": {
   "codemirror_mode": {
    "name": "ipython",
    "version": 3
   },
   "file_extension": ".py",
   "mimetype": "text/x-python",
   "name": "python",
   "nbconvert_exporter": "python",
   "pygments_lexer": "ipython3",
   "version": "3.7.13"
  }
 },
 "nbformat": 4,
 "nbformat_minor": 5
}
