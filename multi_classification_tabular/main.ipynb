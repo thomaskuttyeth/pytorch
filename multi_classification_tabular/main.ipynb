{
 "cells": [
  {
   "cell_type": "code",
   "execution_count": 1,
   "metadata": {
    "executionInfo": {
     "elapsed": 3231,
     "status": "ok",
     "timestamp": 1653739904272,
     "user": {
      "displayName": "Thomaskutty Reji",
      "userId": "02052053620409751240"
     },
     "user_tz": -330
    },
    "id": "2rtR_H0Ojb5a"
   },
   "outputs": [],
   "source": [
    "import os \n",
    "import torch \n",
    "import sklearn.model_selection\n",
    "import pandas as pd \n",
    "import numpy as np"
   ]
  },
  {
   "cell_type": "code",
   "execution_count": null,
   "metadata": {
    "executionInfo": {
     "elapsed": 322,
     "status": "ok",
     "timestamp": 1653739905879,
     "user": {
      "displayName": "Thomaskutty Reji",
      "userId": "02052053620409751240"
     },
     "user_tz": -330
    },
    "id": "5Mo_cL5UkjO-"
   },
   "outputs": [],
   "source": []
  },
  {
   "cell_type": "code",
   "execution_count": 3,
   "metadata": {
    "colab": {
     "base_uri": "https://localhost:8080/"
    },
    "executionInfo": {
     "elapsed": 5,
     "status": "ok",
     "timestamp": 1653739907148,
     "user": {
      "displayName": "Thomaskutty Reji",
      "userId": "02052053620409751240"
     },
     "user_tz": -330
    },
    "id": "KFITEMzJkkCp",
    "outputId": "6e55a726-935f-42ea-9930-2e9b7c779b80"
   },
   "outputs": [
    {
     "data": {
      "text/plain": [
       "['.ipynb_checkpoints',\n",
       " 'data.csv',\n",
       " 'dataclass.py',\n",
       " 'func_utils.py',\n",
       " 'main.ipynb',\n",
       " 'main.py',\n",
       " 'network.py',\n",
       " '__pycache__']"
      ]
     },
     "execution_count": 3,
     "metadata": {},
     "output_type": "execute_result"
    }
   ],
   "source": [
    "os.listdir()"
   ]
  },
  {
   "cell_type": "code",
   "execution_count": 4,
   "metadata": {
    "colab": {
     "base_uri": "https://localhost:8080/",
     "height": 250
    },
    "executionInfo": {
     "elapsed": 429,
     "status": "ok",
     "timestamp": 1653739908825,
     "user": {
      "displayName": "Thomaskutty Reji",
      "userId": "02052053620409751240"
     },
     "user_tz": -330
    },
    "id": "alA4MObpkldS",
    "outputId": "c607e524-8747-4033-8ee6-6a878710fb02"
   },
   "outputs": [
    {
     "data": {
      "text/html": [
       "<div>\n",
       "<style scoped>\n",
       "    .dataframe tbody tr th:only-of-type {\n",
       "        vertical-align: middle;\n",
       "    }\n",
       "\n",
       "    .dataframe tbody tr th {\n",
       "        vertical-align: top;\n",
       "    }\n",
       "\n",
       "    .dataframe thead th {\n",
       "        text-align: right;\n",
       "    }\n",
       "</style>\n",
       "<table border=\"1\" class=\"dataframe\">\n",
       "  <thead>\n",
       "    <tr style=\"text-align: right;\">\n",
       "      <th></th>\n",
       "      <th>fixed acidity</th>\n",
       "      <th>volatile acidity</th>\n",
       "      <th>citric acid</th>\n",
       "      <th>residual sugar</th>\n",
       "      <th>chlorides</th>\n",
       "      <th>free sulfur dioxide</th>\n",
       "      <th>total sulfur dioxide</th>\n",
       "      <th>density</th>\n",
       "      <th>pH</th>\n",
       "      <th>sulphates</th>\n",
       "      <th>alcohol</th>\n",
       "      <th>quality</th>\n",
       "    </tr>\n",
       "  </thead>\n",
       "  <tbody>\n",
       "    <tr>\n",
       "      <th>0</th>\n",
       "      <td>7.4</td>\n",
       "      <td>0.70</td>\n",
       "      <td>0.00</td>\n",
       "      <td>1.9</td>\n",
       "      <td>0.076</td>\n",
       "      <td>11.0</td>\n",
       "      <td>34.0</td>\n",
       "      <td>0.9978</td>\n",
       "      <td>3.51</td>\n",
       "      <td>0.56</td>\n",
       "      <td>9.4</td>\n",
       "      <td>5</td>\n",
       "    </tr>\n",
       "    <tr>\n",
       "      <th>1</th>\n",
       "      <td>7.8</td>\n",
       "      <td>0.88</td>\n",
       "      <td>0.00</td>\n",
       "      <td>2.6</td>\n",
       "      <td>0.098</td>\n",
       "      <td>25.0</td>\n",
       "      <td>67.0</td>\n",
       "      <td>0.9968</td>\n",
       "      <td>3.20</td>\n",
       "      <td>0.68</td>\n",
       "      <td>9.8</td>\n",
       "      <td>5</td>\n",
       "    </tr>\n",
       "    <tr>\n",
       "      <th>2</th>\n",
       "      <td>7.8</td>\n",
       "      <td>0.76</td>\n",
       "      <td>0.04</td>\n",
       "      <td>2.3</td>\n",
       "      <td>0.092</td>\n",
       "      <td>15.0</td>\n",
       "      <td>54.0</td>\n",
       "      <td>0.9970</td>\n",
       "      <td>3.26</td>\n",
       "      <td>0.65</td>\n",
       "      <td>9.8</td>\n",
       "      <td>5</td>\n",
       "    </tr>\n",
       "    <tr>\n",
       "      <th>3</th>\n",
       "      <td>11.2</td>\n",
       "      <td>0.28</td>\n",
       "      <td>0.56</td>\n",
       "      <td>1.9</td>\n",
       "      <td>0.075</td>\n",
       "      <td>17.0</td>\n",
       "      <td>60.0</td>\n",
       "      <td>0.9980</td>\n",
       "      <td>3.16</td>\n",
       "      <td>0.58</td>\n",
       "      <td>9.8</td>\n",
       "      <td>6</td>\n",
       "    </tr>\n",
       "    <tr>\n",
       "      <th>4</th>\n",
       "      <td>7.4</td>\n",
       "      <td>0.70</td>\n",
       "      <td>0.00</td>\n",
       "      <td>1.9</td>\n",
       "      <td>0.076</td>\n",
       "      <td>11.0</td>\n",
       "      <td>34.0</td>\n",
       "      <td>0.9978</td>\n",
       "      <td>3.51</td>\n",
       "      <td>0.56</td>\n",
       "      <td>9.4</td>\n",
       "      <td>5</td>\n",
       "    </tr>\n",
       "  </tbody>\n",
       "</table>\n",
       "</div>"
      ],
      "text/plain": [
       "   fixed acidity  volatile acidity  citric acid  residual sugar  chlorides  \\\n",
       "0            7.4              0.70         0.00             1.9      0.076   \n",
       "1            7.8              0.88         0.00             2.6      0.098   \n",
       "2            7.8              0.76         0.04             2.3      0.092   \n",
       "3           11.2              0.28         0.56             1.9      0.075   \n",
       "4            7.4              0.70         0.00             1.9      0.076   \n",
       "\n",
       "   free sulfur dioxide  total sulfur dioxide  density    pH  sulphates  \\\n",
       "0                 11.0                  34.0   0.9978  3.51       0.56   \n",
       "1                 25.0                  67.0   0.9968  3.20       0.68   \n",
       "2                 15.0                  54.0   0.9970  3.26       0.65   \n",
       "3                 17.0                  60.0   0.9980  3.16       0.58   \n",
       "4                 11.0                  34.0   0.9978  3.51       0.56   \n",
       "\n",
       "   alcohol  quality  \n",
       "0      9.4        5  \n",
       "1      9.8        5  \n",
       "2      9.8        5  \n",
       "3      9.8        6  \n",
       "4      9.4        5  "
      ]
     },
     "execution_count": 4,
     "metadata": {},
     "output_type": "execute_result"
    }
   ],
   "source": [
    "data = pd.read_csv('data.csv')\n",
    "data.head()"
   ]
  },
  {
   "cell_type": "code",
   "execution_count": 5,
   "metadata": {
    "colab": {
     "base_uri": "https://localhost:8080/"
    },
    "executionInfo": {
     "elapsed": 7,
     "status": "ok",
     "timestamp": 1653739910157,
     "user": {
      "displayName": "Thomaskutty Reji",
      "userId": "02052053620409751240"
     },
     "user_tz": -330
    },
    "id": "cSiQIuiwlDXc",
    "outputId": "bde47155-51cb-4cf2-f200-a3ec0a23e40e"
   },
   "outputs": [
    {
     "data": {
      "text/plain": [
       "0"
      ]
     },
     "execution_count": 5,
     "metadata": {},
     "output_type": "execute_result"
    }
   ],
   "source": [
    "data.isna().sum().sum()"
   ]
  },
  {
   "cell_type": "code",
   "execution_count": 6,
   "metadata": {
    "colab": {
     "base_uri": "https://localhost:8080/"
    },
    "executionInfo": {
     "elapsed": 6,
     "status": "ok",
     "timestamp": 1653739911501,
     "user": {
      "displayName": "Thomaskutty Reji",
      "userId": "02052053620409751240"
     },
     "user_tz": -330
    },
    "id": "50d3OV9_n4Wo",
    "outputId": "c46ec831-a590-4107-e7f8-5e6c169013ac"
   },
   "outputs": [
    {
     "data": {
      "text/plain": [
       "5    681\n",
       "6    638\n",
       "7    199\n",
       "4     53\n",
       "8     18\n",
       "3     10\n",
       "Name: quality, dtype: int64"
      ]
     },
     "execution_count": 6,
     "metadata": {},
     "output_type": "execute_result"
    }
   ],
   "source": [
    "data.quality.value_counts()"
   ]
  },
  {
   "cell_type": "code",
   "execution_count": 7,
   "metadata": {
    "colab": {
     "base_uri": "https://localhost:8080/"
    },
    "executionInfo": {
     "elapsed": 3,
     "status": "ok",
     "timestamp": 1653739912623,
     "user": {
      "displayName": "Thomaskutty Reji",
      "userId": "02052053620409751240"
     },
     "user_tz": -330
    },
    "id": "-Af-i-kKlVHw",
    "outputId": "d3b6f4c4-15f7-42ff-da53-b342fdf97257"
   },
   "outputs": [
    {
     "name": "stdout",
     "output_type": "stream",
     "text": [
      "[3 4 5 6 7 8] [0 1 2 3 4 5]\n",
      "{3: 0, 4: 1, 5: 2, 6: 3, 7: 4, 8: 5}\n"
     ]
    }
   ],
   "source": [
    "target_labels = data.quality.unique() \n",
    "target_labels = np.sort(target_labels)\n",
    "target_new_labels = np.argsort(target_labels)\n",
    "print(target_labels,target_new_labels)\n",
    "target_map = {i:j for i,j in zip(target_labels,target_new_labels)}\n",
    "print(target_map)"
   ]
  },
  {
   "cell_type": "code",
   "execution_count": 8,
   "metadata": {
    "executionInfo": {
     "elapsed": 1,
     "status": "ok",
     "timestamp": 1653739913675,
     "user": {
      "displayName": "Thomaskutty Reji",
      "userId": "02052053620409751240"
     },
     "user_tz": -330
    },
    "id": "eHkvfdtlleah"
   },
   "outputs": [],
   "source": [
    "# modifying the target values\n",
    "data.quality = data.quality.replace(target_map)"
   ]
  },
  {
   "cell_type": "code",
   "execution_count": 9,
   "metadata": {
    "colab": {
     "base_uri": "https://localhost:8080/"
    },
    "executionInfo": {
     "elapsed": 3,
     "status": "ok",
     "timestamp": 1653739914518,
     "user": {
      "displayName": "Thomaskutty Reji",
      "userId": "02052053620409751240"
     },
     "user_tz": -330
    },
    "id": "CoeVNFEzlfXT",
    "outputId": "71616124-c075-4a36-fab3-46037b0a8a4d"
   },
   "outputs": [
    {
     "data": {
      "text/plain": [
       "2    681\n",
       "3    638\n",
       "4    199\n",
       "1     53\n",
       "5     18\n",
       "0     10\n",
       "Name: quality, dtype: int64"
      ]
     },
     "execution_count": 9,
     "metadata": {},
     "output_type": "execute_result"
    }
   ],
   "source": [
    "# checking the value counts again \n",
    "data.quality.value_counts()"
   ]
  },
  {
   "cell_type": "code",
   "execution_count": 10,
   "metadata": {
    "colab": {
     "base_uri": "https://localhost:8080/"
    },
    "executionInfo": {
     "elapsed": 3,
     "status": "ok",
     "timestamp": 1653739915434,
     "user": {
      "displayName": "Thomaskutty Reji",
      "userId": "02052053620409751240"
     },
     "user_tz": -330
    },
    "id": "nbrsvpcmoBsy",
    "outputId": "181c50c2-4429-45a6-f3e6-6f24e17f3668"
   },
   "outputs": [
    {
     "data": {
      "text/plain": [
       "((1599, 11), (1599,))"
      ]
     },
     "execution_count": 10,
     "metadata": {},
     "output_type": "execute_result"
    }
   ],
   "source": [
    "X = data.iloc[:,0:-1]\n",
    "y = data.iloc[:,-1]\n",
    "X.shape,y.shape"
   ]
  },
  {
   "cell_type": "code",
   "execution_count": 11,
   "metadata": {
    "colab": {
     "base_uri": "https://localhost:8080/"
    },
    "executionInfo": {
     "elapsed": 3,
     "status": "ok",
     "timestamp": 1653739916614,
     "user": {
      "displayName": "Thomaskutty Reji",
      "userId": "02052053620409751240"
     },
     "user_tz": -330
    },
    "id": "K-oWDurdqBoA",
    "outputId": "cb2279fb-4c09-4d70-b6d9-34072ee5a36e"
   },
   "outputs": [
    {
     "name": "stdout",
     "output_type": "stream",
     "text": [
      "(1119, 11) (1119,)\n",
      "(432, 11) (432,)\n",
      "(48, 11) (48,)\n"
     ]
    }
   ],
   "source": [
    "X_train,X_test_,y_train,y_test_ = sklearn.model_selection.train_test_split(\n",
    "    X,y,stratify = y, random_state = 1,test_size = 0.3\n",
    ")\n",
    "X_test,X_val,y_test,y_val = sklearn.model_selection.train_test_split(\n",
    "    X_test_,y_test_,stratify = y_test_,random_state = 1, test_size = 0.1\n",
    ")\n",
    "print(X_train.shape,y_train.shape)\n",
    "print(X_test.shape,y_test.shape)\n",
    "print(X_val.shape,y_val.shape)"
   ]
  },
  {
   "cell_type": "code",
   "execution_count": 12,
   "metadata": {
    "executionInfo": {
     "elapsed": 2,
     "status": "ok",
     "timestamp": 1653739916961,
     "user": {
      "displayName": "Thomaskutty Reji",
      "userId": "02052053620409751240"
     },
     "user_tz": -330
    },
    "id": "0fPk7wT4rksU"
   },
   "outputs": [],
   "source": [
    "scaler = sklearn.preprocessing.MinMaxScaler()\n",
    "X_train = scaler.fit_transform(X_train)\n",
    "X_test = scaler.transform(X_test)\n",
    "X_val = scaler.transform(X_val)\n",
    "\n",
    "y_train, y_test, y_val =  np.array(y_train),np.array(y_test),np.array(y_val)"
   ]
  },
  {
   "cell_type": "code",
   "execution_count": 13,
   "metadata": {
    "executionInfo": {
     "elapsed": 2,
     "status": "ok",
     "timestamp": 1653739917790,
     "user": {
      "displayName": "Thomaskutty Reji",
      "userId": "02052053620409751240"
     },
     "user_tz": -330
    },
    "id": "sveVitI98k49"
   },
   "outputs": [],
   "source": [
    "epochs = 50 \n",
    "batch_size = 64\n",
    "learning_rate = 0.001\n",
    "class ClassifierDataset(torch.utils.data.Dataset):\n",
    "    \n",
    "    def __init__(self, X_data, y_data):\n",
    "        self.X_data = X_data\n",
    "        self.y_data = y_data\n",
    "        \n",
    "    def __getitem__(self, index):\n",
    "        return self.X_data[index], self.y_data[index]\n",
    "        \n",
    "    def __len__ (self):\n",
    "        return len(self.X_data)\n",
    "\n",
    "\n",
    "train_dataset = ClassifierDataset(torch.from_numpy(X_train).float(), torch.from_numpy(y_train).long())\n",
    "val_dataset = ClassifierDataset(torch.from_numpy(X_val).float(), torch.from_numpy(y_val).long())\n",
    "test_dataset = ClassifierDataset(torch.from_numpy(X_test).float(), torch.from_numpy(y_test).long())"
   ]
  },
  {
   "cell_type": "code",
   "execution_count": 14,
   "metadata": {
    "executionInfo": {
     "elapsed": 6,
     "status": "ok",
     "timestamp": 1653739919076,
     "user": {
      "displayName": "Thomaskutty Reji",
      "userId": "02052053620409751240"
     },
     "user_tz": -330
    },
    "id": "tPONg6yM93Om"
   },
   "outputs": [],
   "source": [
    "target_list = []\n",
    "for _, t in train_dataset:\n",
    "    target_list.append(t)\n",
    "    \n",
    "target_list = torch.tensor(target_list)"
   ]
  },
  {
   "cell_type": "code",
   "execution_count": 15,
   "metadata": {
    "executionInfo": {
     "elapsed": 1,
     "status": "ok",
     "timestamp": 1653739920083,
     "user": {
      "displayName": "Thomaskutty Reji",
      "userId": "02052053620409751240"
     },
     "user_tz": -330
    },
    "id": "agqppxMAFNyR"
   },
   "outputs": [],
   "source": [
    "def get_class_distribution(obj):\n",
    "    count_dict = {\n",
    "        \"rating_3\": 0,\n",
    "        \"rating_4\": 0,\n",
    "        \"rating_5\": 0,\n",
    "        \"rating_6\": 0,\n",
    "        \"rating_7\": 0,\n",
    "        \"rating_8\": 0,\n",
    "    }\n",
    "    \n",
    "    for i in obj:\n",
    "        if i == 0: \n",
    "            count_dict['rating_3'] += 1\n",
    "        elif i == 1: \n",
    "            count_dict['rating_4'] += 1\n",
    "        elif i == 2: \n",
    "            count_dict['rating_5'] += 1\n",
    "        elif i == 3: \n",
    "            count_dict['rating_6'] += 1\n",
    "        elif i == 4: \n",
    "            count_dict['rating_7'] += 1  \n",
    "        elif i == 5: \n",
    "            count_dict['rating_8'] += 1              \n",
    "        else:\n",
    "            print(\"Check classes.\")\n",
    "            \n",
    "    return count_dict"
   ]
  },
  {
   "cell_type": "code",
   "execution_count": 16,
   "metadata": {
    "colab": {
     "base_uri": "https://localhost:8080/"
    },
    "executionInfo": {
     "elapsed": 5,
     "status": "ok",
     "timestamp": 1653739921579,
     "user": {
      "displayName": "Thomaskutty Reji",
      "userId": "02052053620409751240"
     },
     "user_tz": -330
    },
    "id": "Z2Ltd1RHEOoR",
    "outputId": "a6c98fe0-a900-4bb2-895e-ccfef9ece378"
   },
   "outputs": [
    {
     "name": "stdout",
     "output_type": "stream",
     "text": [
      "tensor([0.1429, 0.0270, 0.0021, 0.0022, 0.0072, 0.0769])\n"
     ]
    }
   ],
   "source": [
    "class_count = [i for i in get_class_distribution(y_train).values()]\n",
    "class_weights = 1./torch.tensor(class_count, dtype=torch.float) \n",
    "print(class_weights)"
   ]
  },
  {
   "cell_type": "code",
   "execution_count": null,
   "metadata": {
    "executionInfo": {
     "elapsed": 2,
     "status": "ok",
     "timestamp": 1653739922944,
     "user": {
      "displayName": "Thomaskutty Reji",
      "userId": "02052053620409751240"
     },
     "user_tz": -330
    },
    "id": "AnsIavHIGFse"
   },
   "outputs": [],
   "source": []
  },
  {
   "cell_type": "code",
   "execution_count": 17,
   "metadata": {
    "colab": {
     "base_uri": "https://localhost:8080/"
    },
    "executionInfo": {
     "elapsed": 4,
     "status": "ok",
     "timestamp": 1653739923454,
     "user": {
      "displayName": "Thomaskutty Reji",
      "userId": "02052053620409751240"
     },
     "user_tz": -330
    },
    "id": "OE-EW0JyFFld",
    "outputId": "bfef7724-c5c0-4938-8590-8593b6d73e87"
   },
   "outputs": [
    {
     "data": {
      "text/plain": [
       "tensor([0.0270, 0.0072, 0.0072,  ..., 0.0021, 0.0072, 0.0021])"
      ]
     },
     "execution_count": 17,
     "metadata": {},
     "output_type": "execute_result"
    }
   ],
   "source": [
    "class_weights_all = class_weights[target_list]\n",
    "class_weights_all"
   ]
  },
  {
   "cell_type": "code",
   "execution_count": 18,
   "metadata": {
    "executionInfo": {
     "elapsed": 2,
     "status": "ok",
     "timestamp": 1653739923974,
     "user": {
      "displayName": "Thomaskutty Reji",
      "userId": "02052053620409751240"
     },
     "user_tz": -330
    },
    "id": "RzxHc9d9H6CZ"
   },
   "outputs": [],
   "source": [
    "from torch.utils.data import Dataset, DataLoader, WeightedRandomSampler\n",
    "weighted_sampler = WeightedRandomSampler(\n",
    "    weights=class_weights_all,\n",
    "    num_samples=len(class_weights_all),\n",
    "    replacement=True\n",
    ")"
   ]
  },
  {
   "cell_type": "code",
   "execution_count": 19,
   "metadata": {
    "executionInfo": {
     "elapsed": 1,
     "status": "ok",
     "timestamp": 1653739924391,
     "user": {
      "displayName": "Thomaskutty Reji",
      "userId": "02052053620409751240"
     },
     "user_tz": -330
    },
    "id": "VqDZAoGwIABG"
   },
   "outputs": [],
   "source": [
    "EPOCHS = 300\n",
    "BATCH_SIZE = 16\n",
    "LEARNING_RATE = 0.0007\n",
    "NUM_FEATURES = len(X.columns)\n",
    "NUM_CLASSES = 6"
   ]
  },
  {
   "cell_type": "code",
   "execution_count": 20,
   "metadata": {
    "executionInfo": {
     "elapsed": 6,
     "status": "ok",
     "timestamp": 1653739924826,
     "user": {
      "displayName": "Thomaskutty Reji",
      "userId": "02052053620409751240"
     },
     "user_tz": -330
    },
    "id": "2kMaSZCmILPZ"
   },
   "outputs": [],
   "source": [
    "train_loader = DataLoader(\n",
    "    dataset=train_dataset,\n",
    "    batch_size=BATCH_SIZE,\n",
    "    sampler=weighted_sampler\n",
    ")\n",
    "val_loader = DataLoader(dataset=val_dataset, batch_size=1)\n",
    "test_loader = DataLoader(dataset=test_dataset, batch_size=1)"
   ]
  },
  {
   "cell_type": "code",
   "execution_count": 21,
   "metadata": {
    "executionInfo": {
     "elapsed": 5,
     "status": "ok",
     "timestamp": 1653739925162,
     "user": {
      "displayName": "Thomaskutty Reji",
      "userId": "02052053620409751240"
     },
     "user_tz": -330
    },
    "id": "xCD3N_5BIOsb"
   },
   "outputs": [],
   "source": [
    "import torch.nn as nn\n",
    "class MulticlassClassification(nn.Module):\n",
    "    def __init__(self, num_feature, num_class):\n",
    "        super(MulticlassClassification, self).__init__()\n",
    "        \n",
    "        self.layer_1 = nn.Linear(num_feature, 512)\n",
    "        self.layer_2 = nn.Linear(512, 128)\n",
    "        self.layer_3 = nn.Linear(128, 64)\n",
    "        self.layer_out = nn.Linear(64, num_class) \n",
    "        \n",
    "        self.relu = nn.ReLU()\n",
    "        self.dropout = nn.Dropout(p=0.2)\n",
    "        self.batchnorm1 = nn.BatchNorm1d(512)\n",
    "        self.batchnorm2 = nn.BatchNorm1d(128)\n",
    "        self.batchnorm3 = nn.BatchNorm1d(64)\n",
    "        \n",
    "    def forward(self, x):\n",
    "        x = self.layer_1(x)\n",
    "        x = self.batchnorm1(x)\n",
    "        x = self.relu(x)\n",
    "        \n",
    "        x = self.layer_2(x)\n",
    "        x = self.batchnorm2(x)\n",
    "        x = self.relu(x)\n",
    "        x = self.dropout(x)\n",
    "        \n",
    "        x = self.layer_3(x)\n",
    "        x = self.batchnorm3(x)\n",
    "        x = self.relu(x)\n",
    "        x = self.dropout(x)\n",
    "        \n",
    "        x = self.layer_out(x)\n",
    "        \n",
    "        return x"
   ]
  },
  {
   "cell_type": "code",
   "execution_count": 22,
   "metadata": {
    "colab": {
     "base_uri": "https://localhost:8080/"
    },
    "executionInfo": {
     "elapsed": 5,
     "status": "ok",
     "timestamp": 1653739927221,
     "user": {
      "displayName": "Thomaskutty Reji",
      "userId": "02052053620409751240"
     },
     "user_tz": -330
    },
    "id": "AiITernHISaY",
    "outputId": "ba354089-c6d4-47c0-fd9a-63e0c9f6fc5e"
   },
   "outputs": [
    {
     "name": "stdout",
     "output_type": "stream",
     "text": [
      "cpu\n"
     ]
    }
   ],
   "source": [
    "device = torch.device(\"cuda:0\" if torch.cuda.is_available() else \"cpu\")\n",
    "print(device)"
   ]
  },
  {
   "cell_type": "code",
   "execution_count": 23,
   "metadata": {
    "colab": {
     "base_uri": "https://localhost:8080/"
    },
    "executionInfo": {
     "elapsed": 13828,
     "status": "ok",
     "timestamp": 1653739942386,
     "user": {
      "displayName": "Thomaskutty Reji",
      "userId": "02052053620409751240"
     },
     "user_tz": -330
    },
    "id": "bD5nQaMMIa1Q",
    "outputId": "6f3a949c-f243-4aad-80b6-ce64e2f1ac16"
   },
   "outputs": [
    {
     "name": "stdout",
     "output_type": "stream",
     "text": [
      "MulticlassClassification(\n",
      "  (layer_1): Linear(in_features=11, out_features=512, bias=True)\n",
      "  (layer_2): Linear(in_features=512, out_features=128, bias=True)\n",
      "  (layer_3): Linear(in_features=128, out_features=64, bias=True)\n",
      "  (layer_out): Linear(in_features=64, out_features=6, bias=True)\n",
      "  (relu): ReLU()\n",
      "  (dropout): Dropout(p=0.2, inplace=False)\n",
      "  (batchnorm1): BatchNorm1d(512, eps=1e-05, momentum=0.1, affine=True, track_running_stats=True)\n",
      "  (batchnorm2): BatchNorm1d(128, eps=1e-05, momentum=0.1, affine=True, track_running_stats=True)\n",
      "  (batchnorm3): BatchNorm1d(64, eps=1e-05, momentum=0.1, affine=True, track_running_stats=True)\n",
      ")\n"
     ]
    }
   ],
   "source": [
    "model = MulticlassClassification(num_feature = NUM_FEATURES, num_class=NUM_CLASSES)\n",
    "model.to(device)\n",
    "import torch.optim as optim\n",
    "\n",
    "criterion = nn.CrossEntropyLoss(weight=class_weights.to(device))\n",
    "optimizer = optim.Adam(model.parameters(), lr=LEARNING_RATE)\n",
    "print(model)"
   ]
  },
  {
   "cell_type": "code",
   "execution_count": 24,
   "metadata": {
    "executionInfo": {
     "elapsed": 6,
     "status": "ok",
     "timestamp": 1653739942386,
     "user": {
      "displayName": "Thomaskutty Reji",
      "userId": "02052053620409751240"
     },
     "user_tz": -330
    },
    "id": "LvUG5XXXIerM"
   },
   "outputs": [],
   "source": [
    "def multi_acc(y_pred, y_test):\n",
    "    y_pred_softmax = torch.log_softmax(y_pred, dim = 1)\n",
    "    _, y_pred_tags = torch.max(y_pred_softmax, dim = 1)    \n",
    "    \n",
    "    correct_pred = (y_pred_tags == y_test).float()\n",
    "    acc = correct_pred.sum() / len(correct_pred)\n",
    "    \n",
    "    acc = torch.round(acc * 100)\n",
    "    return acc"
   ]
  },
  {
   "cell_type": "code",
   "execution_count": 25,
   "metadata": {
    "executionInfo": {
     "elapsed": 6,
     "status": "ok",
     "timestamp": 1653739942387,
     "user": {
      "displayName": "Thomaskutty Reji",
      "userId": "02052053620409751240"
     },
     "user_tz": -330
    },
    "id": "JtsO6RPbIoXH"
   },
   "outputs": [],
   "source": [
    "# for keeping the history \n",
    "accuracy_stats = {'train': [],\"val\": []}\n",
    "loss_stats = {'train': [],\"val\": []}"
   ]
  },
  {
   "cell_type": "code",
   "execution_count": 26,
   "metadata": {
    "colab": {
     "base_uri": "https://localhost:8080/"
    },
    "executionInfo": {
     "elapsed": 27751,
     "status": "ok",
     "timestamp": 1653739971500,
     "user": {
      "displayName": "Thomaskutty Reji",
      "userId": "02052053620409751240"
     },
     "user_tz": -330
    },
    "id": "gFh-KnnBIqre",
    "outputId": "19038f65-8e61-4d4c-c3cc-a91d877c6e22"
   },
   "outputs": [
    {
     "name": "stdout",
     "output_type": "stream",
     "text": [
      "Begin training.\n",
      "Epoch 001: | Train Loss: 0.92841 | Val Loss: 1.96295 | Train Acc: 36.857| Val Acc: 6.250\n",
      "Epoch 002: | Train Loss: 0.41085 | Val Loss: 2.26635 | Train Acc: 46.300| Val Acc: 8.333\n",
      "Epoch 003: | Train Loss: 0.33614 | Val Loss: 2.42978 | Train Acc: 47.100| Val Acc: 6.250\n",
      "Epoch 004: | Train Loss: 0.30399 | Val Loss: 2.45807 | Train Acc: 47.271| Val Acc: 6.250\n",
      "Epoch 005: | Train Loss: 0.31633 | Val Loss: 2.55948 | Train Acc: 46.471| Val Acc: 6.250\n",
      "Epoch 006: | Train Loss: 0.32424 | Val Loss: 2.60250 | Train Acc: 46.471| Val Acc: 8.333\n",
      "Epoch 007: | Train Loss: 0.24279 | Val Loss: 2.49559 | Train Acc: 50.600| Val Acc: 6.250\n",
      "Epoch 008: | Train Loss: 0.27089 | Val Loss: 2.55101 | Train Acc: 51.129| Val Acc: 8.333\n",
      "Epoch 009: | Train Loss: 0.22356 | Val Loss: 2.50222 | Train Acc: 54.757| Val Acc: 8.333\n",
      "Epoch 010: | Train Loss: 0.22766 | Val Loss: 2.64128 | Train Acc: 52.757| Val Acc: 8.333\n",
      "Epoch 011: | Train Loss: 0.22761 | Val Loss: 2.44995 | Train Acc: 54.357| Val Acc: 8.333\n",
      "Epoch 012: | Train Loss: 0.23088 | Val Loss: 2.35068 | Train Acc: 54.757| Val Acc: 14.583\n",
      "Epoch 013: | Train Loss: 0.20465 | Val Loss: 2.35526 | Train Acc: 56.657| Val Acc: 16.667\n",
      "Epoch 014: | Train Loss: 0.16784 | Val Loss: 2.13627 | Train Acc: 57.414| Val Acc: 27.083\n",
      "Epoch 015: | Train Loss: 0.19535 | Val Loss: 2.25243 | Train Acc: 58.243| Val Acc: 20.833\n",
      "Epoch 016: | Train Loss: 0.14555 | Val Loss: 2.13502 | Train Acc: 59.400| Val Acc: 20.833\n",
      "Epoch 017: | Train Loss: 0.19822 | Val Loss: 2.34619 | Train Acc: 57.986| Val Acc: 12.500\n",
      "Epoch 018: | Train Loss: 0.17479 | Val Loss: 2.34524 | Train Acc: 62.014| Val Acc: 20.833\n",
      "Epoch 019: | Train Loss: 0.17605 | Val Loss: 2.04397 | Train Acc: 60.229| Val Acc: 27.083\n",
      "Epoch 020: | Train Loss: 0.17282 | Val Loss: 2.13827 | Train Acc: 61.586| Val Acc: 25.000\n",
      "Epoch 021: | Train Loss: 0.21036 | Val Loss: 2.27298 | Train Acc: 57.229| Val Acc: 20.833\n",
      "Epoch 022: | Train Loss: 0.16696 | Val Loss: 2.05465 | Train Acc: 60.357| Val Acc: 25.000\n",
      "Epoch 023: | Train Loss: 0.16745 | Val Loss: 2.16781 | Train Acc: 61.500| Val Acc: 27.083\n",
      "Epoch 024: | Train Loss: 0.16174 | Val Loss: 1.95607 | Train Acc: 62.157| Val Acc: 29.167\n",
      "Epoch 025: | Train Loss: 0.17416 | Val Loss: 2.11691 | Train Acc: 63.786| Val Acc: 27.083\n",
      "Epoch 026: | Train Loss: 0.13613 | Val Loss: 2.11909 | Train Acc: 62.471| Val Acc: 27.083\n",
      "Epoch 027: | Train Loss: 0.18166 | Val Loss: 1.98970 | Train Acc: 62.929| Val Acc: 29.167\n",
      "Epoch 028: | Train Loss: 0.12946 | Val Loss: 2.12800 | Train Acc: 65.357| Val Acc: 27.083\n",
      "Epoch 029: | Train Loss: 0.15103 | Val Loss: 1.80398 | Train Acc: 64.714| Val Acc: 33.333\n",
      "Epoch 030: | Train Loss: 0.14984 | Val Loss: 1.79849 | Train Acc: 63.600| Val Acc: 33.333\n",
      "Epoch 031: | Train Loss: 0.16387 | Val Loss: 2.00722 | Train Acc: 63.629| Val Acc: 31.250\n",
      "Epoch 032: | Train Loss: 0.13412 | Val Loss: 1.89661 | Train Acc: 65.143| Val Acc: 35.417\n",
      "Epoch 033: | Train Loss: 0.13135 | Val Loss: 2.09100 | Train Acc: 65.429| Val Acc: 29.167\n",
      "Epoch 034: | Train Loss: 0.13546 | Val Loss: 1.96018 | Train Acc: 67.243| Val Acc: 29.167\n",
      "Epoch 035: | Train Loss: 0.15518 | Val Loss: 2.00955 | Train Acc: 63.186| Val Acc: 31.250\n",
      "Epoch 036: | Train Loss: 0.14259 | Val Loss: 1.74144 | Train Acc: 65.286| Val Acc: 31.250\n",
      "Epoch 037: | Train Loss: 0.11199 | Val Loss: 1.80266 | Train Acc: 66.729| Val Acc: 31.250\n",
      "Epoch 038: | Train Loss: 0.17259 | Val Loss: 1.94177 | Train Acc: 65.571| Val Acc: 33.333\n",
      "Epoch 039: | Train Loss: 0.11228 | Val Loss: 1.95703 | Train Acc: 64.529| Val Acc: 31.250\n",
      "Epoch 040: | Train Loss: 0.11815 | Val Loss: 1.86262 | Train Acc: 67.500| Val Acc: 35.417\n",
      "Epoch 041: | Train Loss: 0.16420 | Val Loss: 2.04015 | Train Acc: 66.143| Val Acc: 27.083\n",
      "Epoch 042: | Train Loss: 0.17539 | Val Loss: 1.88994 | Train Acc: 64.943| Val Acc: 27.083\n",
      "Epoch 043: | Train Loss: 0.11877 | Val Loss: 1.86853 | Train Acc: 66.329| Val Acc: 31.250\n",
      "Epoch 044: | Train Loss: 0.10120 | Val Loss: 1.75140 | Train Acc: 66.700| Val Acc: 31.250\n",
      "Epoch 045: | Train Loss: 0.13582 | Val Loss: 1.70524 | Train Acc: 67.900| Val Acc: 29.167\n",
      "Epoch 046: | Train Loss: 0.11705 | Val Loss: 1.81628 | Train Acc: 65.843| Val Acc: 31.250\n",
      "Epoch 047: | Train Loss: 0.11467 | Val Loss: 1.75032 | Train Acc: 65.443| Val Acc: 33.333\n",
      "Epoch 048: | Train Loss: 0.12310 | Val Loss: 2.03735 | Train Acc: 67.971| Val Acc: 31.250\n",
      "Epoch 049: | Train Loss: 0.14851 | Val Loss: 1.81699 | Train Acc: 64.771| Val Acc: 33.333\n",
      "Epoch 050: | Train Loss: 0.12279 | Val Loss: 1.88120 | Train Acc: 66.357| Val Acc: 29.167\n",
      "Epoch 051: | Train Loss: 0.11614 | Val Loss: 1.78458 | Train Acc: 70.286| Val Acc: 35.417\n",
      "Epoch 052: | Train Loss: 0.09562 | Val Loss: 1.89989 | Train Acc: 70.329| Val Acc: 29.167\n",
      "Epoch 053: | Train Loss: 0.08918 | Val Loss: 1.77906 | Train Acc: 70.243| Val Acc: 33.333\n",
      "Epoch 054: | Train Loss: 0.09601 | Val Loss: 1.89444 | Train Acc: 69.486| Val Acc: 27.083\n",
      "Epoch 055: | Train Loss: 0.08408 | Val Loss: 1.71323 | Train Acc: 70.000| Val Acc: 31.250\n",
      "Epoch 056: | Train Loss: 0.11595 | Val Loss: 1.81886 | Train Acc: 67.057| Val Acc: 35.417\n",
      "Epoch 057: | Train Loss: 0.08561 | Val Loss: 1.89498 | Train Acc: 69.457| Val Acc: 31.250\n",
      "Epoch 058: | Train Loss: 0.13631 | Val Loss: 1.78993 | Train Acc: 68.386| Val Acc: 31.250\n",
      "Epoch 059: | Train Loss: 0.13486 | Val Loss: 2.13709 | Train Acc: 69.643| Val Acc: 29.167\n",
      "Epoch 060: | Train Loss: 0.11643 | Val Loss: 2.09194 | Train Acc: 67.943| Val Acc: 35.417\n",
      "Epoch 061: | Train Loss: 0.13451 | Val Loss: 1.92149 | Train Acc: 66.357| Val Acc: 35.417\n",
      "Epoch 062: | Train Loss: 0.09627 | Val Loss: 1.91879 | Train Acc: 69.171| Val Acc: 33.333\n",
      "Epoch 063: | Train Loss: 0.12568 | Val Loss: 1.99587 | Train Acc: 67.586| Val Acc: 27.083\n",
      "Epoch 064: | Train Loss: 0.13681 | Val Loss: 1.72418 | Train Acc: 66.043| Val Acc: 37.500\n",
      "Epoch 065: | Train Loss: 0.12048 | Val Loss: 1.67185 | Train Acc: 69.400| Val Acc: 37.500\n",
      "Epoch 066: | Train Loss: 0.08921 | Val Loss: 1.88407 | Train Acc: 70.757| Val Acc: 31.250\n",
      "Epoch 067: | Train Loss: 0.08252 | Val Loss: 1.77032 | Train Acc: 71.400| Val Acc: 33.333\n",
      "Epoch 068: | Train Loss: 0.10679 | Val Loss: 1.87094 | Train Acc: 70.043| Val Acc: 35.417\n",
      "Epoch 069: | Train Loss: 0.09163 | Val Loss: 1.86623 | Train Acc: 70.371| Val Acc: 35.417\n",
      "Epoch 070: | Train Loss: 0.09438 | Val Loss: 2.04140 | Train Acc: 70.871| Val Acc: 31.250\n",
      "Epoch 071: | Train Loss: 0.10103 | Val Loss: 1.84191 | Train Acc: 69.329| Val Acc: 35.417\n",
      "Epoch 072: | Train Loss: 0.10684 | Val Loss: 1.82325 | Train Acc: 71.243| Val Acc: 37.500\n",
      "Epoch 073: | Train Loss: 0.10238 | Val Loss: 1.80701 | Train Acc: 71.457| Val Acc: 35.417\n",
      "Epoch 074: | Train Loss: 0.09688 | Val Loss: 1.91786 | Train Acc: 71.543| Val Acc: 35.417\n",
      "Epoch 075: | Train Loss: 0.10070 | Val Loss: 1.95816 | Train Acc: 68.943| Val Acc: 33.333\n",
      "Epoch 076: | Train Loss: 0.07633 | Val Loss: 1.60566 | Train Acc: 72.457| Val Acc: 39.583\n",
      "Epoch 077: | Train Loss: 0.09848 | Val Loss: 1.76357 | Train Acc: 69.657| Val Acc: 39.583\n",
      "Epoch 078: | Train Loss: 0.08632 | Val Loss: 1.51528 | Train Acc: 72.757| Val Acc: 41.667\n",
      "Epoch 079: | Train Loss: 0.10336 | Val Loss: 1.63846 | Train Acc: 71.829| Val Acc: 31.250\n",
      "Epoch 080: | Train Loss: 0.13715 | Val Loss: 1.79598 | Train Acc: 70.200| Val Acc: 37.500\n",
      "Epoch 081: | Train Loss: 0.09744 | Val Loss: 1.94323 | Train Acc: 72.829| Val Acc: 33.333\n",
      "Epoch 082: | Train Loss: 0.08204 | Val Loss: 1.88639 | Train Acc: 71.529| Val Acc: 33.333\n",
      "Epoch 083: | Train Loss: 0.10616 | Val Loss: 1.79223 | Train Acc: 68.114| Val Acc: 35.417\n",
      "Epoch 084: | Train Loss: 0.10931 | Val Loss: 1.69238 | Train Acc: 72.429| Val Acc: 35.417\n",
      "Epoch 085: | Train Loss: 0.10061 | Val Loss: 1.58920 | Train Acc: 71.843| Val Acc: 33.333\n",
      "Epoch 086: | Train Loss: 0.09585 | Val Loss: 1.62147 | Train Acc: 69.200| Val Acc: 37.500\n",
      "Epoch 087: | Train Loss: 0.12794 | Val Loss: 1.54709 | Train Acc: 67.657| Val Acc: 39.583\n",
      "Epoch 088: | Train Loss: 0.09861 | Val Loss: 1.80197 | Train Acc: 69.557| Val Acc: 29.167\n",
      "Epoch 089: | Train Loss: 0.10217 | Val Loss: 1.63891 | Train Acc: 70.714| Val Acc: 35.417\n",
      "Epoch 090: | Train Loss: 0.09432 | Val Loss: 1.78681 | Train Acc: 72.457| Val Acc: 41.667\n",
      "Epoch 091: | Train Loss: 0.08285 | Val Loss: 1.85830 | Train Acc: 74.900| Val Acc: 35.417\n",
      "Epoch 092: | Train Loss: 0.10359 | Val Loss: 1.76895 | Train Acc: 70.871| Val Acc: 29.167\n",
      "Epoch 093: | Train Loss: 0.08498 | Val Loss: 1.81945 | Train Acc: 70.514| Val Acc: 35.417\n",
      "Epoch 094: | Train Loss: 0.07577 | Val Loss: 1.48766 | Train Acc: 72.586| Val Acc: 43.750\n",
      "Epoch 095: | Train Loss: 0.07953 | Val Loss: 1.50807 | Train Acc: 72.657| Val Acc: 41.667\n",
      "Epoch 096: | Train Loss: 0.16911 | Val Loss: 1.74023 | Train Acc: 70.529| Val Acc: 37.500\n",
      "Epoch 097: | Train Loss: 0.08297 | Val Loss: 1.76317 | Train Acc: 73.100| Val Acc: 35.417\n",
      "Epoch 098: | Train Loss: 0.10001 | Val Loss: 1.61144 | Train Acc: 70.543| Val Acc: 41.667\n",
      "Epoch 099: | Train Loss: 0.08178 | Val Loss: 1.62825 | Train Acc: 71.700| Val Acc: 37.500\n",
      "Epoch 100: | Train Loss: 0.09314 | Val Loss: 1.59172 | Train Acc: 73.200| Val Acc: 41.667\n"
     ]
    }
   ],
   "source": [
    "print(\"Begin training.\")\n",
    "EPOCHS = 100\n",
    "for e in (range(1, EPOCHS+1)):\n",
    "    \n",
    "    # TRAINING\n",
    "    train_epoch_loss = 0\n",
    "    train_epoch_acc = 0\n",
    "    model.train()\n",
    "    for X_train_batch, y_train_batch in train_loader:\n",
    "        X_train_batch, y_train_batch = X_train_batch.to(device), y_train_batch.to(device)\n",
    "        optimizer.zero_grad()\n",
    "        \n",
    "        y_train_pred = model(X_train_batch)\n",
    "        \n",
    "        train_loss = criterion(y_train_pred, y_train_batch)\n",
    "        train_acc = multi_acc(y_train_pred, y_train_batch)\n",
    "        \n",
    "        train_loss.backward()\n",
    "        optimizer.step()\n",
    "        \n",
    "        train_epoch_loss += train_loss.item()\n",
    "        train_epoch_acc += train_acc.item()\n",
    "        \n",
    "        \n",
    "    # VALIDATION    \n",
    "    with torch.no_grad():\n",
    "        \n",
    "        val_epoch_loss = 0\n",
    "        val_epoch_acc = 0\n",
    "        \n",
    "        model.eval()\n",
    "        for X_val_batch, y_val_batch in val_loader:\n",
    "            X_val_batch, y_val_batch = X_val_batch.to(device), y_val_batch.to(device)\n",
    "            \n",
    "            y_val_pred = model(X_val_batch)\n",
    "                        \n",
    "            val_loss = criterion(y_val_pred, y_val_batch)\n",
    "            val_acc = multi_acc(y_val_pred, y_val_batch)\n",
    "            \n",
    "            val_epoch_loss += val_loss.item()\n",
    "            val_epoch_acc += val_acc.item()\n",
    "\n",
    "    loss_stats['train'].append(train_epoch_loss/len(train_loader))\n",
    "    loss_stats['val'].append(val_epoch_loss/len(val_loader))\n",
    "    accuracy_stats['train'].append(train_epoch_acc/len(train_loader))\n",
    "    accuracy_stats['val'].append(val_epoch_acc/len(val_loader))\n",
    "                              \n",
    "    \n",
    "    print(f'Epoch {e+0:03}: | Train Loss: {train_epoch_loss/len(train_loader):.5f} | Val Loss: {val_epoch_loss/len(val_loader):.5f} | Train Acc: {train_epoch_acc/len(train_loader):.3f}| Val Acc: {val_epoch_acc/len(val_loader):.3f}')"
   ]
  },
  {
   "cell_type": "code",
   "execution_count": null,
   "metadata": {
    "colab": {
     "base_uri": "https://localhost:8080/",
     "height": 573
    },
    "executionInfo": {
     "elapsed": 1349,
     "status": "ok",
     "timestamp": 1653740131527,
     "user": {
      "displayName": "Thomaskutty Reji",
      "userId": "02052053620409751240"
     },
     "user_tz": -330
    },
    "id": "fh540RApIy06",
    "outputId": "df03b1c7-6efe-4930-e496-ccde42a0106a"
   },
   "outputs": [],
   "source": [
    "# Create dataframes\n",
    "from matplotlib import pyplot as plt\n",
    "import seaborn as sns\n",
    "train_val_acc_df = pd.DataFrame.from_dict(accuracy_stats).reset_index().melt(id_vars=['index']).rename(columns={\"index\":\"epochs\"})\n",
    "train_val_loss_df = pd.DataFrame.from_dict(loss_stats).reset_index().melt(id_vars=['index']).rename(columns={\"index\":\"epochs\"})\n",
    "# Plot the dataframes\n",
    "# fig, axes = plt.subplots(nrows=1, ncols=2, figsize=(20,7)) # ax = axes[0],axes=[1]\n",
    "sns.lineplot(data=train_val_acc_df, x = \"epochs\", y=\"value\", hue=\"variable\").set_title('Train-Val Accuracy/Epoch')\n",
    "plt.show()\n",
    "sns.lineplot(data=train_val_loss_df, x = \"epochs\", y=\"value\", hue=\"variable\").set_title('Train-Val Loss/Epoch')\n",
    "plt.show()"
   ]
  },
  {
   "cell_type": "code",
   "execution_count": null,
   "metadata": {
    "executionInfo": {
     "elapsed": 961,
     "status": "ok",
     "timestamp": 1653740143680,
     "user": {
      "displayName": "Thomaskutty Reji",
      "userId": "02052053620409751240"
     },
     "user_tz": -330
    },
    "id": "oPHeU7vQJarK"
   },
   "outputs": [],
   "source": [
    "y_pred_list = []\n",
    "with torch.no_grad():\n",
    "    model.eval()\n",
    "    for X_batch, _ in test_loader:\n",
    "        X_batch = X_batch.to(device)\n",
    "        y_test_pred = model(X_batch)\n",
    "        \n",
    "        _, y_pred_tags = torch.max(y_test_pred, dim = 1)\n",
    "        y_pred_list.append(y_pred_tags.cpu().numpy())\n",
    "y_pred_list = [a.squeeze().tolist() for a in y_pred_list]\n"
   ]
  },
  {
   "cell_type": "code",
   "execution_count": null,
   "metadata": {
    "colab": {
     "base_uri": "https://localhost:8080/",
     "height": 265
    },
    "executionInfo": {
     "elapsed": 730,
     "status": "ok",
     "timestamp": 1653740185921,
     "user": {
      "displayName": "Thomaskutty Reji",
      "userId": "02052053620409751240"
     },
     "user_tz": -330
    },
    "id": "voxZwNz-JrqH",
    "outputId": "4f318743-f8bc-46b3-ae3b-d981c5341afc"
   },
   "outputs": [],
   "source": [
    "from sklearn.metrics import confusion_matrix, classification_report\n",
    "class2idx = {3:0,4:1,5:2,6:3,7:4,8:5}\n",
    "idx2class = {v: k for k, v in class2idx.items()}\n",
    "data['quality'].replace(class2idx, inplace=True)\n",
    "confusion_matrix_df = pd.DataFrame(confusion_matrix(y_test, y_pred_list)).rename(columns=idx2class, index=idx2class)\n",
    "sns.heatmap(confusion_matrix_df, annot=True,cmap = 'twilight_shifted_r')\n",
    "plt.show()"
   ]
  },
  {
   "cell_type": "code",
   "execution_count": null,
   "metadata": {
    "colab": {
     "base_uri": "https://localhost:8080/"
    },
    "executionInfo": {
     "elapsed": 321,
     "status": "ok",
     "timestamp": 1653740190869,
     "user": {
      "displayName": "Thomaskutty Reji",
      "userId": "02052053620409751240"
     },
     "user_tz": -330
    },
    "id": "Vsju6MpIJuN1",
    "outputId": "d49e5b34-b9ea-40d0-e2a3-426018709aba"
   },
   "outputs": [],
   "source": [
    "print(classification_report(y_test, y_pred_list))"
   ]
  },
  {
   "cell_type": "code",
   "execution_count": null,
   "metadata": {},
   "outputs": [],
   "source": []
  },
  {
   "cell_type": "code",
   "execution_count": null,
   "metadata": {},
   "outputs": [],
   "source": []
  },
  {
   "cell_type": "code",
   "execution_count": null,
   "metadata": {},
   "outputs": [],
   "source": []
  },
  {
   "cell_type": "code",
   "execution_count": null,
   "metadata": {},
   "outputs": [],
   "source": []
  },
  {
   "cell_type": "code",
   "execution_count": null,
   "metadata": {},
   "outputs": [],
   "source": []
  }
 ],
 "metadata": {
  "accelerator": "GPU",
  "colab": {
   "authorship_tag": "ABX9TyOFaH0bhK1HukwT9LW8ifB1",
   "collapsed_sections": [],
   "mount_file_id": "1Na3cGrjsa2-C9jG7q7i1zdKnJ31yGtzl",
   "name": "main.ipynb",
   "provenance": []
  },
  "kernelspec": {
   "display_name": "Python 3 (ipykernel)",
   "language": "python",
   "name": "python3"
  },
  "language_info": {
   "codemirror_mode": {
    "name": "ipython",
    "version": 3
   },
   "file_extension": ".py",
   "mimetype": "text/x-python",
   "name": "python",
   "nbconvert_exporter": "python",
   "pygments_lexer": "ipython3",
   "version": "3.9.12"
  }
 },
 "nbformat": 4,
 "nbformat_minor": 4
}
