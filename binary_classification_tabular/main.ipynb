{
 "cells": [
  {
   "cell_type": "code",
   "execution_count": 1,
   "id": "649f84be-799c-40d4-8cab-1fc895861486",
   "metadata": {},
   "outputs": [],
   "source": [
    "import numpy as np\n",
    "import pandas as pd\n",
    "from sklearn.model_selection import train_test_split\n",
    "from sklearn.preprocessing import StandardScaler"
   ]
  },
  {
   "cell_type": "code",
   "execution_count": 3,
   "id": "bbf5ddf7-9b83-43a0-9d53-173ee58cf5b7",
   "metadata": {},
   "outputs": [],
   "source": [
    "lines = []\n",
    "with open('data.csv') as datafile:\n",
    "    for i in datafile.readlines():\n",
    "        line = i.split(',')[:-1]\n",
    "        lines.append(line)"
   ]
  },
  {
   "cell_type": "code",
   "execution_count": 4,
   "id": "0e598b82-0f35-4635-95bf-62c2357890a0",
   "metadata": {},
   "outputs": [],
   "source": [
    "data = pd.read_csv('data.csv')"
   ]
  },
  {
   "cell_type": "code",
   "execution_count": 5,
   "id": "1401585e-dffa-4ff0-8064-dcd33fd97b5c",
   "metadata": {},
   "outputs": [
    {
     "data": {
      "text/plain": [
       "Index(['Col1', 'Col2', 'Col3', 'Col4', 'Col5', 'Col6', 'Col7', 'Col8', 'Col9',\n",
       "       'Col10', 'Col11', 'Col12', 'Class_att', 'Unnamed: 13'],\n",
       "      dtype='object')"
      ]
     },
     "execution_count": 5,
     "metadata": {},
     "output_type": "execute_result"
    }
   ],
   "source": [
    "data.columns"
   ]
  },
  {
   "cell_type": "code",
   "execution_count": 6,
   "id": "44114257-0743-4907-a113-bcfd715201f9",
   "metadata": {},
   "outputs": [],
   "source": [
    "new_columns = data.columns[:-1]"
   ]
  },
  {
   "cell_type": "code",
   "execution_count": 7,
   "id": "67b17ec7-fe13-4a4d-9a50-ba7ec8eef77e",
   "metadata": {},
   "outputs": [
    {
     "data": {
      "text/plain": [
       "Index(['Col1', 'Col2', 'Col3', 'Col4', 'Col5', 'Col6', 'Col7', 'Col8', 'Col9',\n",
       "       'Col10', 'Col11', 'Col12', 'Class_att'],\n",
       "      dtype='object')"
      ]
     },
     "execution_count": 7,
     "metadata": {},
     "output_type": "execute_result"
    }
   ],
   "source": [
    "new_columns"
   ]
  },
  {
   "cell_type": "code",
   "execution_count": 8,
   "id": "d0d14b56-60d2-4bee-bb5d-7e109aef0209",
   "metadata": {},
   "outputs": [
    {
     "data": {
      "text/html": [
       "<div>\n",
       "<style scoped>\n",
       "    .dataframe tbody tr th:only-of-type {\n",
       "        vertical-align: middle;\n",
       "    }\n",
       "\n",
       "    .dataframe tbody tr th {\n",
       "        vertical-align: top;\n",
       "    }\n",
       "\n",
       "    .dataframe thead th {\n",
       "        text-align: right;\n",
       "    }\n",
       "</style>\n",
       "<table border=\"1\" class=\"dataframe\">\n",
       "  <thead>\n",
       "    <tr style=\"text-align: right;\">\n",
       "      <th></th>\n",
       "      <th>Col1</th>\n",
       "      <th>Col2</th>\n",
       "      <th>Col3</th>\n",
       "      <th>Col4</th>\n",
       "      <th>Col5</th>\n",
       "      <th>Col6</th>\n",
       "      <th>Col7</th>\n",
       "      <th>Col8</th>\n",
       "      <th>Col9</th>\n",
       "      <th>Col10</th>\n",
       "      <th>Col11</th>\n",
       "      <th>Col12</th>\n",
       "      <th>Class_att</th>\n",
       "    </tr>\n",
       "  </thead>\n",
       "  <tbody>\n",
       "    <tr>\n",
       "      <th>0</th>\n",
       "      <td>63.027817</td>\n",
       "      <td>22.552586</td>\n",
       "      <td>39.609117</td>\n",
       "      <td>40.475232</td>\n",
       "      <td>98.672917</td>\n",
       "      <td>-0.254400</td>\n",
       "      <td>0.744503</td>\n",
       "      <td>12.5661</td>\n",
       "      <td>14.5386</td>\n",
       "      <td>15.30468</td>\n",
       "      <td>-28.658501</td>\n",
       "      <td>43.5123</td>\n",
       "      <td>Abnormal</td>\n",
       "    </tr>\n",
       "    <tr>\n",
       "      <th>1</th>\n",
       "      <td>39.056951</td>\n",
       "      <td>10.060991</td>\n",
       "      <td>25.015378</td>\n",
       "      <td>28.995960</td>\n",
       "      <td>114.405425</td>\n",
       "      <td>4.564259</td>\n",
       "      <td>0.415186</td>\n",
       "      <td>12.8874</td>\n",
       "      <td>17.5323</td>\n",
       "      <td>16.78486</td>\n",
       "      <td>-25.530607</td>\n",
       "      <td>16.1102</td>\n",
       "      <td>Abnormal</td>\n",
       "    </tr>\n",
       "    <tr>\n",
       "      <th>2</th>\n",
       "      <td>68.832021</td>\n",
       "      <td>22.218482</td>\n",
       "      <td>50.092194</td>\n",
       "      <td>46.613539</td>\n",
       "      <td>105.985135</td>\n",
       "      <td>-3.530317</td>\n",
       "      <td>0.474889</td>\n",
       "      <td>26.8343</td>\n",
       "      <td>17.4861</td>\n",
       "      <td>16.65897</td>\n",
       "      <td>-29.031888</td>\n",
       "      <td>19.2221</td>\n",
       "      <td>Abnormal</td>\n",
       "    </tr>\n",
       "    <tr>\n",
       "      <th>3</th>\n",
       "      <td>69.297008</td>\n",
       "      <td>24.652878</td>\n",
       "      <td>44.311238</td>\n",
       "      <td>44.644130</td>\n",
       "      <td>101.868495</td>\n",
       "      <td>11.211523</td>\n",
       "      <td>0.369345</td>\n",
       "      <td>23.5603</td>\n",
       "      <td>12.7074</td>\n",
       "      <td>11.42447</td>\n",
       "      <td>-30.470246</td>\n",
       "      <td>18.8329</td>\n",
       "      <td>Abnormal</td>\n",
       "    </tr>\n",
       "    <tr>\n",
       "      <th>4</th>\n",
       "      <td>49.712859</td>\n",
       "      <td>9.652075</td>\n",
       "      <td>28.317406</td>\n",
       "      <td>40.060784</td>\n",
       "      <td>108.168725</td>\n",
       "      <td>7.918501</td>\n",
       "      <td>0.543360</td>\n",
       "      <td>35.4940</td>\n",
       "      <td>15.9546</td>\n",
       "      <td>8.87237</td>\n",
       "      <td>-16.378376</td>\n",
       "      <td>24.9171</td>\n",
       "      <td>Abnormal</td>\n",
       "    </tr>\n",
       "  </tbody>\n",
       "</table>\n",
       "</div>"
      ],
      "text/plain": [
       "        Col1       Col2       Col3       Col4        Col5       Col6  \\\n",
       "0  63.027817  22.552586  39.609117  40.475232   98.672917  -0.254400   \n",
       "1  39.056951  10.060991  25.015378  28.995960  114.405425   4.564259   \n",
       "2  68.832021  22.218482  50.092194  46.613539  105.985135  -3.530317   \n",
       "3  69.297008  24.652878  44.311238  44.644130  101.868495  11.211523   \n",
       "4  49.712859   9.652075  28.317406  40.060784  108.168725   7.918501   \n",
       "\n",
       "       Col7     Col8     Col9     Col10      Col11    Col12 Class_att  \n",
       "0  0.744503  12.5661  14.5386  15.30468 -28.658501  43.5123  Abnormal  \n",
       "1  0.415186  12.8874  17.5323  16.78486 -25.530607  16.1102  Abnormal  \n",
       "2  0.474889  26.8343  17.4861  16.65897 -29.031888  19.2221  Abnormal  \n",
       "3  0.369345  23.5603  12.7074  11.42447 -30.470246  18.8329  Abnormal  \n",
       "4  0.543360  35.4940  15.9546   8.87237 -16.378376  24.9171  Abnormal  "
      ]
     },
     "execution_count": 8,
     "metadata": {},
     "output_type": "execute_result"
    }
   ],
   "source": [
    "data = data[new_columns]\n",
    "data.head()"
   ]
  },
  {
   "cell_type": "code",
   "execution_count": 9,
   "id": "16fd01af-07b1-44f6-b413-a9b3622b35d4",
   "metadata": {},
   "outputs": [
    {
     "data": {
      "text/plain": [
       "Abnormal    210\n",
       "Normal      100\n",
       "Name: Class_att, dtype: int64"
      ]
     },
     "execution_count": 9,
     "metadata": {},
     "output_type": "execute_result"
    }
   ],
   "source": [
    "data.Class_att.value_counts()"
   ]
  },
  {
   "cell_type": "code",
   "execution_count": 10,
   "id": "7119b48a-2636-409a-a0ff-681e16a7d8d0",
   "metadata": {},
   "outputs": [],
   "source": [
    "# changing target to numerical \n",
    "target_map = {'Abnormal':1,'Normal':0}\n",
    "data['Class_att'].replace(target_map,inplace = True)"
   ]
  },
  {
   "cell_type": "code",
   "execution_count": 11,
   "id": "2c7e176d-6ea7-47e0-aa3c-1da317754350",
   "metadata": {},
   "outputs": [
    {
     "data": {
      "text/plain": [
       "1    210\n",
       "0    100\n",
       "Name: Class_att, dtype: int64"
      ]
     },
     "execution_count": 11,
     "metadata": {},
     "output_type": "execute_result"
    }
   ],
   "source": [
    "data['Class_att'].value_counts()"
   ]
  },
  {
   "cell_type": "code",
   "execution_count": 12,
   "id": "0babd365-02fb-47aa-83bc-975e9fd83667",
   "metadata": {},
   "outputs": [],
   "source": [
    "# separating features and target \n",
    "X = data.iloc[:,0:-1]\n",
    "y = data.iloc[:,-1]"
   ]
  },
  {
   "cell_type": "code",
   "execution_count": 13,
   "id": "bc4b8c62-df0f-493b-96de-19c1994c6c07",
   "metadata": {},
   "outputs": [
    {
     "data": {
      "text/plain": [
       "((310, 12), (310,))"
      ]
     },
     "execution_count": 13,
     "metadata": {},
     "output_type": "execute_result"
    }
   ],
   "source": [
    "X.shape,y.shape"
   ]
  },
  {
   "cell_type": "markdown",
   "id": "4e40661f-3c96-4612-8a78-435043b894a5",
   "metadata": {},
   "source": [
    "### Preparing X_train,X_test,y_train and y_test"
   ]
  },
  {
   "cell_type": "code",
   "execution_count": 14,
   "id": "57a56bf0-9e16-48d3-9301-8f541e2067c7",
   "metadata": {},
   "outputs": [],
   "source": [
    "# train test split \n",
    "X_train,X_test,y_train,y_test =train_test_split(\n",
    "    X,y,test_size = 0.33, random_state = 1\n",
    ")"
   ]
  },
  {
   "cell_type": "code",
   "execution_count": 15,
   "id": "b54256ee-0295-44c9-addc-af921b5d64f1",
   "metadata": {},
   "outputs": [],
   "source": [
    "# standardizing the features \n",
    "scaler = StandardScaler()\n",
    "X_train = scaler.fit_transform(X_train)\n",
    "X_test = scaler.transform(X_test)\n",
    "y_train = np.array(y_train)\n",
    "y_test = np.array(y_test)"
   ]
  },
  {
   "cell_type": "code",
   "execution_count": 16,
   "id": "34328359-9fbe-4e1a-ad4f-93cde9a97033",
   "metadata": {},
   "outputs": [
    {
     "data": {
      "text/plain": [
       "(207, 12)"
      ]
     },
     "execution_count": 16,
     "metadata": {},
     "output_type": "execute_result"
    }
   ],
   "source": [
    "X_train.shape"
   ]
  },
  {
   "cell_type": "markdown",
   "id": "355aaec0-8b0a-4c80-8eac-7c4556d03447",
   "metadata": {},
   "source": [
    "### DataClass "
   ]
  },
  {
   "cell_type": "code",
   "execution_count": 17,
   "id": "3b632513-ae0b-45ff-a85a-8ddb5295c2cf",
   "metadata": {},
   "outputs": [],
   "source": [
    "import torch \n",
    "import torch.nn as nn\n",
    "epochs = 50 \n",
    "batch_size = 64\n",
    "learning_rate = 0.001\n",
    "\n",
    "class TrainData(torch.utils.data.Dataset):\n",
    "    def __init__(self,x,y):\n",
    "        super().__init__()\n",
    "        self.x = x \n",
    "        self.y = y \n",
    "    def __getitem__(self,index):\n",
    "        return self.x[index],self.y[index]\n",
    "    def __len__(self):\n",
    "        return self.x.shape[0]\n",
    "    \n",
    "class TestData(torch.utils.data.Dataset):\n",
    "    def __init__(self,x):\n",
    "        super().__init__()\n",
    "        self.x = x \n",
    "    def __getitem__(self,index):\n",
    "        return self.x[index]\n",
    "    def __len__(self):\n",
    "        return self.x.shape[0]"
   ]
  },
  {
   "cell_type": "markdown",
   "id": "be56413b-4ccf-4650-aaca-93599e7f6a77",
   "metadata": {},
   "source": [
    "### DataLoader"
   ]
  },
  {
   "cell_type": "code",
   "execution_count": 18,
   "id": "1b5d62f2-ab26-4cf7-a6cf-40d9ef397296",
   "metadata": {},
   "outputs": [],
   "source": [
    "train_data = TrainData(\n",
    "    torch.FloatTensor(X_train),torch.FloatTensor(y_train)\n",
    ")"
   ]
  },
  {
   "cell_type": "code",
   "execution_count": 19,
   "id": "13a5469a-712b-48d0-9c40-81eb4aadeceb",
   "metadata": {},
   "outputs": [],
   "source": [
    "test_data = TestData(torch.FloatTensor(X_test))"
   ]
  },
  {
   "cell_type": "code",
   "execution_count": 20,
   "id": "57694eb3-2d62-4427-b976-f57b0dd3323e",
   "metadata": {},
   "outputs": [],
   "source": [
    "\n",
    "train_loader = torch.utils.data.DataLoader(\n",
    "    dataset = train_data, batch_size = batch_size, shuffle = True\n",
    ")\n",
    "test_loader = torch.utils.data.DataLoader(\n",
    "    dataset = test_data, batch_size = 1\n",
    ")"
   ]
  },
  {
   "cell_type": "code",
   "execution_count": 21,
   "id": "bf7c54f9-1e22-4beb-886e-a824dd0499f6",
   "metadata": {},
   "outputs": [
    {
     "data": {
      "text/plain": [
       "(207, 12)"
      ]
     },
     "execution_count": 21,
     "metadata": {},
     "output_type": "execute_result"
    }
   ],
   "source": [
    "X_train.shape"
   ]
  },
  {
   "cell_type": "markdown",
   "id": "97c56d1c-9490-4482-a33f-fb99a4ff4ee6",
   "metadata": {},
   "source": [
    "Each data instance contains 12 features, so the input dimension is 12. 64 nodes in the first layer. The batch size is also 64. In short we have the following matrices, (64,12)*(12,64) => (64,64) ==> There are 64 instances and each of them is 64 in dimension. "
   ]
  },
  {
   "cell_type": "markdown",
   "id": "4ee9a65d-d14c-477c-88cb-1ea36ff2d509",
   "metadata": {},
   "source": [
    "### Building the Network"
   ]
  },
  {
   "cell_type": "code",
   "execution_count": 22,
   "id": "bcb41e36-3836-4e7e-a5e4-bea07f177b97",
   "metadata": {},
   "outputs": [],
   "source": [
    "class BinaryClassificationTabular(nn.Module):\n",
    "    def __init__(self):\n",
    "        super(BinaryClassificationTabular,self).__init__()\n",
    "        # number of input features = 12 \n",
    "        self.layer_1 = nn.Linear(12,64)\n",
    "        self.layer_2 = nn.Linear(64,64)\n",
    "        self.layer_out = nn.Linear(64,1)\n",
    "        \n",
    "        self.relu = nn.ReLU()\n",
    "        self.sigmoid = nn.Sigmoid()\n",
    "        self.dropout = nn.Dropout(p = 0.1)\n",
    "        self.batchnorm1 = nn.BatchNorm1d(64)\n",
    "        self.batchnorm2 = nn.BatchNorm1d(64)\n",
    "    \n",
    "    def forward(self, inputs):\n",
    "        x = self.relu(self.layer_1(inputs))\n",
    "        x = self.batchnorm1(x)\n",
    "        x = self.batchnorm2(x)\n",
    "        x = self.dropout(x)\n",
    "        x = self.dropout(x)\n",
    "        x = self.sigmoid(self.layer_out(x))\n",
    "        \n",
    "        return x"
   ]
  },
  {
   "cell_type": "code",
   "execution_count": 23,
   "id": "301a7b3d-dc58-43e0-9bf0-66269699ce72",
   "metadata": {},
   "outputs": [
    {
     "name": "stdout",
     "output_type": "stream",
     "text": [
      "cpu\n"
     ]
    }
   ],
   "source": [
    "device = torch.device(\"cuda:0\" if torch.cuda.is_available() else 'cpu')\n",
    "print(device)"
   ]
  },
  {
   "cell_type": "code",
   "execution_count": 24,
   "id": "61375064-abe8-48f7-801e-d126291051fa",
   "metadata": {},
   "outputs": [
    {
     "name": "stdout",
     "output_type": "stream",
     "text": [
      "BinaryClassificationTabular(\n",
      "  (layer_1): Linear(in_features=12, out_features=64, bias=True)\n",
      "  (layer_2): Linear(in_features=64, out_features=64, bias=True)\n",
      "  (layer_out): Linear(in_features=64, out_features=1, bias=True)\n",
      "  (relu): ReLU()\n",
      "  (sigmoid): Sigmoid()\n",
      "  (dropout): Dropout(p=0.1, inplace=False)\n",
      "  (batchnorm1): BatchNorm1d(64, eps=1e-05, momentum=0.1, affine=True, track_running_stats=True)\n",
      "  (batchnorm2): BatchNorm1d(64, eps=1e-05, momentum=0.1, affine=True, track_running_stats=True)\n",
      ")\n"
     ]
    }
   ],
   "source": [
    "model = BinaryClassificationTabular()\n",
    "print(model)"
   ]
  },
  {
   "cell_type": "code",
   "execution_count": 25,
   "id": "46132149-babc-4a72-af3f-9382674c9138",
   "metadata": {},
   "outputs": [],
   "source": [
    "criterion = nn.BCEWithLogitsLoss()\n",
    "optimizer = torch.optim.Adam(model.parameters(),lr = learning_rate)"
   ]
  },
  {
   "cell_type": "code",
   "execution_count": 26,
   "id": "6831a606-9132-4275-aff2-7e221b26f48d",
   "metadata": {},
   "outputs": [],
   "source": [
    "def binary_acc(y_pred,y_test):\n",
    "    y_pred_tag = torch.round(y_pred)\n",
    "    correct_results_sum = (y_pred_tag ==y_test).sum().float() \n",
    "    # average accuracy for a batch is the sum of positive predictions\n",
    "    # divided by the number of predictions in that batch \n",
    "    acc = correct_results_sum/y_test.shape[0]\n",
    "    \n",
    "    acc = torch.round(acc*100)\n",
    "    return acc\n",
    "    "
   ]
  },
  {
   "cell_type": "markdown",
   "id": "e9f86deb-8c80-4ef8-b97f-b4a8c7e5baf5",
   "metadata": {},
   "source": [
    "### Trainng Loop"
   ]
  },
  {
   "cell_type": "code",
   "execution_count": 27,
   "id": "97dd9636-a4cb-47bc-9aaa-7fcfda742b6a",
   "metadata": {},
   "outputs": [
    {
     "name": "stdout",
     "output_type": "stream",
     "text": [
      "Epoch 001: | Loss: 0.60187 | Acc: 57.000\n",
      "Epoch 002: | Loss: 0.60535 | Acc: 58.500\n",
      "Epoch 003: | Loss: 0.61518 | Acc: 69.000\n",
      "Epoch 004: | Loss: 0.59765 | Acc: 67.750\n",
      "Epoch 005: | Loss: 0.59436 | Acc: 70.750\n",
      "Epoch 006: | Loss: 0.60336 | Acc: 72.250\n",
      "Epoch 007: | Loss: 0.59625 | Acc: 73.000\n",
      "Epoch 008: | Loss: 0.58947 | Acc: 68.500\n",
      "Epoch 009: | Loss: 0.57869 | Acc: 74.750\n",
      "Epoch 010: | Loss: 0.58538 | Acc: 76.250\n",
      "Epoch 011: | Loss: 0.57036 | Acc: 73.500\n",
      "Epoch 012: | Loss: 0.55950 | Acc: 79.000\n",
      "Epoch 013: | Loss: 0.57403 | Acc: 76.000\n",
      "Epoch 014: | Loss: 0.56404 | Acc: 72.500\n",
      "Epoch 015: | Loss: 0.54862 | Acc: 77.000\n",
      "Epoch 016: | Loss: 0.56179 | Acc: 74.750\n",
      "Epoch 017: | Loss: 0.54844 | Acc: 79.000\n",
      "Epoch 018: | Loss: 0.55677 | Acc: 77.250\n",
      "Epoch 019: | Loss: 0.55137 | Acc: 79.000\n",
      "Epoch 020: | Loss: 0.54908 | Acc: 74.000\n",
      "Epoch 021: | Loss: 0.55853 | Acc: 78.000\n",
      "Epoch 022: | Loss: 0.53961 | Acc: 78.750\n",
      "Epoch 023: | Loss: 0.53976 | Acc: 80.750\n",
      "Epoch 024: | Loss: 0.57294 | Acc: 74.000\n",
      "Epoch 025: | Loss: 0.54482 | Acc: 76.750\n",
      "Epoch 026: | Loss: 0.54680 | Acc: 78.250\n",
      "Epoch 027: | Loss: 0.53405 | Acc: 74.500\n",
      "Epoch 028: | Loss: 0.53225 | Acc: 83.250\n",
      "Epoch 029: | Loss: 0.53341 | Acc: 78.750\n",
      "Epoch 030: | Loss: 0.53928 | Acc: 82.000\n",
      "Epoch 031: | Loss: 0.52557 | Acc: 78.750\n",
      "Epoch 032: | Loss: 0.52885 | Acc: 85.250\n",
      "Epoch 033: | Loss: 0.53541 | Acc: 80.000\n",
      "Epoch 034: | Loss: 0.52617 | Acc: 77.000\n",
      "Epoch 035: | Loss: 0.54590 | Acc: 83.500\n",
      "Epoch 036: | Loss: 0.53267 | Acc: 81.000\n",
      "Epoch 037: | Loss: 0.53203 | Acc: 85.250\n",
      "Epoch 038: | Loss: 0.51566 | Acc: 81.500\n",
      "Epoch 039: | Loss: 0.52662 | Acc: 81.500\n",
      "Epoch 040: | Loss: 0.53363 | Acc: 84.750\n",
      "Epoch 041: | Loss: 0.54198 | Acc: 80.250\n",
      "Epoch 042: | Loss: 0.56534 | Acc: 81.500\n",
      "Epoch 043: | Loss: 0.52492 | Acc: 77.000\n",
      "Epoch 044: | Loss: 0.52875 | Acc: 83.750\n",
      "Epoch 045: | Loss: 0.53807 | Acc: 86.250\n",
      "Epoch 046: | Loss: 0.52252 | Acc: 82.500\n",
      "Epoch 047: | Loss: 0.53665 | Acc: 82.500\n",
      "Epoch 048: | Loss: 0.51776 | Acc: 80.500\n",
      "Epoch 049: | Loss: 0.51988 | Acc: 77.750\n",
      "Epoch 050: | Loss: 0.51926 | Acc: 84.500\n"
     ]
    }
   ],
   "source": [
    "model.train()\n",
    "for e in range(1, epochs+1):\n",
    "    epoch_loss = 0\n",
    "    epoch_acc = 0\n",
    "    for X_batch, y_batch in train_loader:\n",
    "        optimizer.zero_grad()\n",
    "        \n",
    "        y_pred = model(X_batch)\n",
    "        \n",
    "        loss = criterion(y_pred, y_batch.unsqueeze(1))\n",
    "        acc = binary_acc(y_pred, y_batch.unsqueeze(1))\n",
    "        \n",
    "        loss.backward()\n",
    "        optimizer.step()\n",
    "        \n",
    "        epoch_loss += loss.item()\n",
    "        epoch_acc += acc.item()\n",
    "    print(f'Epoch {e+0:03}: | Loss: {epoch_loss/len(train_loader):.5f} | Acc: {epoch_acc/len(train_loader):.3f}')   "
   ]
  },
  {
   "cell_type": "markdown",
   "id": "e147d68f-b758-4cad-bbe4-64c6890b6ef8",
   "metadata": {},
   "source": [
    "### Testing Loop"
   ]
  },
  {
   "cell_type": "code",
   "execution_count": 28,
   "id": "b748552a-fd44-4f39-a448-6523ab25147a",
   "metadata": {},
   "outputs": [],
   "source": [
    "y_pred_list = []\n",
    "model.eval() \n",
    "with torch.no_grad():\n",
    "    for x_batch in test_loader:\n",
    "        y_test_pred = model(x_batch)\n",
    "        y_pred_tag = torch.round(y_test_pred)\n",
    "        y_pred_list.append(y_pred_tag.numpy())\n",
    "y_pred_list = [a.squeeze().tolist() for a in y_pred_list]"
   ]
  },
  {
   "cell_type": "markdown",
   "id": "a13b702e-108e-4a08-ba47-7a7102bb6f97",
   "metadata": {},
   "source": [
    "### Further Evaluations"
   ]
  },
  {
   "cell_type": "code",
   "execution_count": 29,
   "id": "99192b14-8119-4525-a74c-721f9b5533e0",
   "metadata": {},
   "outputs": [
    {
     "data": {
      "text/plain": [
       "array([[27,  5],\n",
       "       [12, 59]], dtype=int64)"
      ]
     },
     "execution_count": 29,
     "metadata": {},
     "output_type": "execute_result"
    }
   ],
   "source": [
    "# confusion matrics\n",
    "import sklearn\n",
    "sklearn.metrics.confusion_matrix(y_test,y_pred_list)"
   ]
  },
  {
   "cell_type": "code",
   "execution_count": 30,
   "id": "5fa1d036-132e-4e64-a284-1868c6c32d57",
   "metadata": {},
   "outputs": [
    {
     "name": "stdout",
     "output_type": "stream",
     "text": [
      "              precision    recall  f1-score   support\n",
      "\n",
      "           0       0.69      0.84      0.76        32\n",
      "           1       0.92      0.83      0.87        71\n",
      "\n",
      "    accuracy                           0.83       103\n",
      "   macro avg       0.81      0.84      0.82       103\n",
      "weighted avg       0.85      0.83      0.84       103\n",
      "\n"
     ]
    }
   ],
   "source": [
    "report = sklearn.metrics.classification_report(y_test,y_pred_list)\n",
    "print(report)"
   ]
  },
  {
   "cell_type": "code",
   "execution_count": null,
   "id": "404b264a-e43c-4728-be63-ea41191451bc",
   "metadata": {},
   "outputs": [],
   "source": []
  }
 ],
 "metadata": {
  "interpreter": {
   "hash": "43c0e278dce988c0ed0a07602571cc74d710327c75dc4c6f3b2aa44d2e9564b6"
  },
  "kernelspec": {
   "display_name": "Python 3.7.13 ('torchenv')",
   "language": "python",
   "name": "python3"
  },
  "language_info": {
   "codemirror_mode": {
    "name": "ipython",
    "version": 3
   },
   "file_extension": ".py",
   "mimetype": "text/x-python",
   "name": "python",
   "nbconvert_exporter": "python",
   "pygments_lexer": "ipython3",
   "version": "3.7.13"
  }
 },
 "nbformat": 4,
 "nbformat_minor": 5
}
