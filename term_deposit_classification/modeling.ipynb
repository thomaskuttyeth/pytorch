{
 "cells": [
  {
   "cell_type": "code",
   "execution_count": 14,
   "id": "9f1984a7-c31d-4eb4-b9fd-e5102bd06385",
   "metadata": {},
   "outputs": [],
   "source": [
    "import pandas as pd \n",
    "import numpy as np \n",
    "import torch.nn as nn\n",
    "import torch\n",
    "from utilities import TermDepositData,BinaryClassification\n",
    "from torchmetrics.functional import accuracy"
   ]
  },
  {
   "cell_type": "markdown",
   "id": "0bb26daf-2395-4ff5-9ba0-1df506894937",
   "metadata": {},
   "source": [
    "## Making the tensor object from csv data"
   ]
  },
  {
   "cell_type": "code",
   "execution_count": 15,
   "id": "e3552da9-69e7-4684-87ac-4fc4a58fa1dc",
   "metadata": {},
   "outputs": [],
   "source": [
    "final_train= pd.read_csv('preprocessed_data/final_train.csv')\n",
    "final_test = pd.read_csv('preprocessed_data/final_test.csv')\n",
    "column_names = final_train.columns \n",
    "selected_labels = ['balance','day','pdays','duration','campaign','previous','age','housing_yes','loan_yes','target']\n",
    "final_train = final_train[selected_labels]\n",
    "final_test = final_test[selected_labels]\n",
    "\n",
    "target_label = 'target'\n",
    "feature_labels = [i for i in selected_labels if i not in [target_label]]\n",
    "\n",
    "train_tensor = torch.FloatTensor(final_train.values)\n",
    "test_tensor = torch.FloatTensor(final_test.values)"
   ]
  },
  {
   "cell_type": "code",
   "execution_count": 16,
   "id": "0e309c3a-7d09-4bf7-9eb5-95c383106970",
   "metadata": {},
   "outputs": [],
   "source": [
    "# train_tensor = torch.load('torch_objects/train_tensor.pt')\n",
    "# test_tensor = torch.load('torch_objects/test_tensor.pt')"
   ]
  },
  {
   "cell_type": "code",
   "execution_count": 17,
   "id": "17824cfe-de5e-4d44-a4b5-ced2a913cf8e",
   "metadata": {},
   "outputs": [
    {
     "data": {
      "text/plain": [
       "(torch.Size([45211, 10]), torch.Size([4521, 10]))"
      ]
     },
     "execution_count": 17,
     "metadata": {},
     "output_type": "execute_result"
    }
   ],
   "source": [
    "train_tensor.shape, test_tensor.shape"
   ]
  },
  {
   "cell_type": "markdown",
   "id": "30844e57-3afe-41f2-8ede-e2cc4cfdabe4",
   "metadata": {},
   "source": [
    "## Setting the Dataloader and DataClass"
   ]
  },
  {
   "cell_type": "code",
   "execution_count": 18,
   "id": "c5035fb9-3e1d-43fd-a33a-4fb4992dda64",
   "metadata": {},
   "outputs": [],
   "source": [
    "training_data = TermDepositData(train_tensor,selected_labels)\n",
    "testing_data = TermDepositData(test_tensor,selected_labels)"
   ]
  },
  {
   "cell_type": "code",
   "execution_count": 19,
   "id": "74223f3a-48ab-4700-9209-989d8857b09c",
   "metadata": {},
   "outputs": [
    {
     "data": {
      "text/plain": [
       "(45211, 4521)"
      ]
     },
     "execution_count": 19,
     "metadata": {},
     "output_type": "execute_result"
    }
   ],
   "source": [
    "# training and testing length \n",
    "training_data.__len__(),testing_data.__len__()"
   ]
  },
  {
   "cell_type": "code",
   "execution_count": 20,
   "id": "7ad6761f-9248-43bc-84be-9bc84ae33645",
   "metadata": {},
   "outputs": [
    {
     "data": {
      "text/plain": [
       "(tensor([ 2.1430e+03,  5.0000e+00, -1.0000e+00,  2.6100e+02,  1.0000e+00,\n",
       "          0.0000e+00,  5.8000e+01,  1.0000e+00,  0.0000e+00]),\n",
       " tensor(0.))"
      ]
     },
     "execution_count": 20,
     "metadata": {},
     "output_type": "execute_result"
    }
   ],
   "source": [
    "training_data[0]# input, ouptut "
   ]
  },
  {
   "cell_type": "code",
   "execution_count": 21,
   "id": "8dbb4715-35c0-46b0-8839-1bc2867ae066",
   "metadata": {},
   "outputs": [],
   "source": [
    "train_dataloader = torch.utils.data.DataLoader(\n",
    "    training_data,batch_size =128\n",
    ")\n",
    "test_dataloader = torch.utils.data.DataLoader(\n",
    "    testing_data,batch_size =128\n",
    ")\n",
    "feature_dim = test_dataloader.dataset.feature_names.__len__()"
   ]
  },
  {
   "cell_type": "markdown",
   "id": "a7f95041-9482-4554-b7dd-cc43ab0a5341",
   "metadata": {},
   "source": [
    "## Model Initialization "
   ]
  },
  {
   "cell_type": "code",
   "execution_count": 22,
   "id": "1e0313e9-58c1-4788-b14c-a7413521c55b",
   "metadata": {},
   "outputs": [
    {
     "data": {
      "text/plain": [
       "BinaryClassification(\n",
       "  (layer_1): Linear(in_features=9, out_features=64, bias=True)\n",
       "  (layer_2): Linear(in_features=64, out_features=64, bias=True)\n",
       "  (layer_out): Linear(in_features=64, out_features=1, bias=True)\n",
       "  (relu): ReLU()\n",
       "  (dropout): Dropout(p=0.1, inplace=False)\n",
       "  (batchnorm1): BatchNorm1d(64, eps=1e-05, momentum=0.1, affine=True, track_running_stats=True)\n",
       "  (batchnorm2): BatchNorm1d(64, eps=1e-05, momentum=0.1, affine=True, track_running_stats=True)\n",
       ")"
      ]
     },
     "execution_count": 22,
     "metadata": {},
     "output_type": "execute_result"
    }
   ],
   "source": [
    "model = BinaryClassification()\n",
    "model"
   ]
  },
  {
   "cell_type": "markdown",
   "id": "dd526790-3b60-4af7-a228-1041efb9ff74",
   "metadata": {},
   "source": [
    "### Initial Weights of Model "
   ]
  },
  {
   "cell_type": "code",
   "execution_count": 23,
   "id": "ba298225-e4d7-4eb7-8834-95989c1678e2",
   "metadata": {},
   "outputs": [
    {
     "name": "stdout",
     "output_type": "stream",
     "text": [
      "torch.Size([64, 9])\n",
      "torch.Size([64])\n",
      "torch.Size([64, 64])\n",
      "torch.Size([64])\n",
      "torch.Size([1, 64])\n",
      "torch.Size([1])\n",
      "torch.Size([64])\n",
      "torch.Size([64])\n",
      "torch.Size([64])\n",
      "torch.Size([64])\n"
     ]
    }
   ],
   "source": [
    "for i in model.parameters():\n",
    "    print(i.shape)  # weight matrices"
   ]
  },
  {
   "cell_type": "code",
   "execution_count": 33,
   "id": "ba664384-033d-4b50-97b6-2d9479c26f36",
   "metadata": {},
   "outputs": [],
   "source": [
    "learning_rate = 0.01\n",
    "loss_fn = nn.BCEWithLogitsLoss()\n",
    "optimizer = torch.optim.Adam(model.parameters(), lr=learning_rate)\n",
    "epochs = 10"
   ]
  },
  {
   "cell_type": "code",
   "execution_count": 34,
   "id": "966488cb-5892-4a4e-888d-9b936786160c",
   "metadata": {},
   "outputs": [],
   "source": [
    "def train_loop(model,epochs,dataloader,optimizer,loss_fn,accuracy_metric):\n",
    "    model.train()\n",
    "    for e in range(1, epochs+1):\n",
    "        epoch_loss = 0\n",
    "        epoch_acc = 0\n",
    "        for X_batch, y_batch in dataloader:\n",
    "            optimizer.zero_grad()\n",
    "            y_pred = model(X_batch)\n",
    "            \n",
    "            loss = loss_fn(y_pred, y_batch.unsqueeze(1))\n",
    "            acc = accuracy(y_pred,y_batch.int())\n",
    "\n",
    "            loss.backward()\n",
    "            optimizer.step()\n",
    "            epoch_loss += loss.item()\n",
    "            epoch_acc += acc.item()\n",
    "            \n",
    "        loss_value = epoch_loss/len(dataloader)\n",
    "        acc_value  = epoch_acc/len(dataloader)\n",
    "        print(f'Epoch {e+0:02}: | Loss: {loss_value:.5f} | Acc: {acc_value:.3f}')"
   ]
  },
  {
   "cell_type": "code",
   "execution_count": 35,
   "id": "d6083278-682a-4073-afff-164e1ad26b30",
   "metadata": {},
   "outputs": [
    {
     "name": "stdout",
     "output_type": "stream",
     "text": [
      "Epoch 01: | Loss: 207.05556 | Acc: 0.866\n",
      "Epoch 02: | Loss: 171.54800 | Acc: 0.844\n",
      "Epoch 03: | Loss: 130.69717 | Acc: 0.844\n",
      "Epoch 04: | Loss: 98.35253 | Acc: 0.845\n",
      "Epoch 05: | Loss: 81.19551 | Acc: 0.849\n",
      "Epoch 06: | Loss: 70.40544 | Acc: 0.848\n",
      "Epoch 07: | Loss: 67.61496 | Acc: 0.846\n",
      "Epoch 08: | Loss: 60.28145 | Acc: 0.848\n",
      "Epoch 09: | Loss: 64.08510 | Acc: 0.844\n",
      "Epoch 10: | Loss: 61.82484 | Acc: 0.843\n"
     ]
    }
   ],
   "source": [
    "train_loop(model,epochs,train_dataloader,optimizer,loss_fn,accuracy)"
   ]
  },
  {
   "cell_type": "code",
   "execution_count": null,
   "id": "aaff3041",
   "metadata": {},
   "outputs": [],
   "source": []
  },
  {
   "cell_type": "code",
   "execution_count": null,
   "id": "252bdb56",
   "metadata": {},
   "outputs": [],
   "source": []
  }
 ],
 "metadata": {
  "kernelspec": {
   "display_name": "Python 3 (ipykernel)",
   "language": "python",
   "name": "python3"
  },
  "language_info": {
   "codemirror_mode": {
    "name": "ipython",
    "version": 3
   },
   "file_extension": ".py",
   "mimetype": "text/x-python",
   "name": "python",
   "nbconvert_exporter": "python",
   "pygments_lexer": "ipython3",
   "version": "3.7.13"
  }
 },
 "nbformat": 4,
 "nbformat_minor": 5
}
