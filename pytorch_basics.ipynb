{
  "nbformat": 4,
  "nbformat_minor": 0,
  "metadata": {
    "colab": {
      "name": "pytorch_basics.ipynb",
      "provenance": [],
      "collapsed_sections": []
    },
    "kernelspec": {
      "name": "python3",
      "display_name": "Python 3"
    }
  },
  "cells": [
    {
      "cell_type": "code",
      "metadata": {
        "id": "3k1H6jCSjE_F"
      },
      "source": [
        "!pip install jovian --upgrade -q\n",
        "import jovian\n",
        "jovian.utils.colab.set_colab_file_id('1r24EGVevDCKLImoBAOmG2rvJ4Ip1K-Xv')"
      ],
      "execution_count": null,
      "outputs": []
    },
    {
      "cell_type": "code",
      "metadata": {
        "id": "eViUuHPBnW67"
      },
      "source": [
        "import torch\n",
        "# torch module contains all the functionalities of pytorch\n",
        "# PyTorch is a library for processing tensors. A tensor is a number, vector, matrix, \n",
        "# or any n-dimensional array. Let's create a tensor with a single number"
      ],
      "execution_count": null,
      "outputs": []
    },
    {
      "cell_type": "code",
      "metadata": {
        "colab": {
          "base_uri": "https://localhost:8080/"
        },
        "id": "o5hU2kJFncSD",
        "outputId": "07bb7ea7-b66a-440b-ed88-e6d4901a0ac5"
      },
      "source": [
        "# Number\n",
        "t1 = torch.tensor(4.)    # 4. representing a floating point number.\n",
        "t1"
      ],
      "execution_count": null,
      "outputs": [
        {
          "output_type": "execute_result",
          "data": {
            "text/plain": [
              "tensor(4.)"
            ]
          },
          "metadata": {
            "tags": []
          },
          "execution_count": 8
        }
      ]
    },
    {
      "cell_type": "code",
      "metadata": {
        "colab": {
          "base_uri": "https://localhost:8080/"
        },
        "id": "T1S7BLj7ogCN",
        "outputId": "677fcff5-7aac-4a47-8f0f-7f74a0604190"
      },
      "source": [
        "t1.dtype"
      ],
      "execution_count": null,
      "outputs": [
        {
          "output_type": "execute_result",
          "data": {
            "text/plain": [
              "torch.float32"
            ]
          },
          "metadata": {
            "tags": []
          },
          "execution_count": 9
        }
      ]
    },
    {
      "cell_type": "code",
      "metadata": {
        "id": "FHfy_aO6on8x"
      },
      "source": [
        "# lets create more complex tensors\n",
        "t2 = torch.tensor([1.,2,3,4])\n",
        "t2\n",
        "# all the elements of a tensor should be of same type "
      ],
      "execution_count": null,
      "outputs": []
    },
    {
      "cell_type": "code",
      "metadata": {
        "colab": {
          "base_uri": "https://localhost:8080/"
        },
        "id": "g8bh6oD7o19N",
        "outputId": "0ec2ba7d-fd27-42b4-ed48-6a4c3c88696b"
      },
      "source": [
        "t2.dtype"
      ],
      "execution_count": null,
      "outputs": [
        {
          "output_type": "execute_result",
          "data": {
            "text/plain": [
              "torch.float32"
            ]
          },
          "metadata": {
            "tags": []
          },
          "execution_count": 11
        }
      ]
    },
    {
      "cell_type": "code",
      "metadata": {
        "colab": {
          "base_uri": "https://localhost:8080/"
        },
        "id": "_wn_BlYRq5V6",
        "outputId": "4c0ec20d-8763-438a-8927-8602b1ce0487"
      },
      "source": [
        "t3 = torch.tensor( [[5.,6.],\n",
        "                    [7.,8.],\n",
        "                    [4.,3.]])\n",
        "t3.dtype"
      ],
      "execution_count": null,
      "outputs": [
        {
          "output_type": "execute_result",
          "data": {
            "text/plain": [
              "torch.float32"
            ]
          },
          "metadata": {
            "tags": []
          },
          "execution_count": 13
        }
      ]
    },
    {
      "cell_type": "code",
      "metadata": {
        "id": "KiDelViWrCdL"
      },
      "source": [
        "t4 = torch.tensor([\n",
        "        [[1.,3.,4.,76.],\n",
        "         [5.,5.,6.,2.],\n",
        "         [5.,6.,8.,23.]],\n",
        "                                  # three- dime tensor\n",
        "         [[23.,45.,65.,3.],\n",
        "         [23.,11.,33.,2.],\n",
        "        [45.,34.,223.,243.]]\n",
        "        ]) "
      ],
      "execution_count": null,
      "outputs": []
    },
    {
      "cell_type": "code",
      "metadata": {
        "colab": {
          "base_uri": "https://localhost:8080/"
        },
        "id": "MRaShUAStkvH",
        "outputId": "f3023467-c79f-48cf-dd16-074e5f03830d"
      },
      "source": [
        "t4"
      ],
      "execution_count": null,
      "outputs": [
        {
          "output_type": "execute_result",
          "data": {
            "text/plain": [
              "tensor([[[  1.,   3.,   4.,  76.],\n",
              "         [  5.,   5.,   6.,   2.],\n",
              "         [  5.,   6.,   8.,  23.]],\n",
              "\n",
              "        [[ 23.,  45.,  65.,   3.],\n",
              "         [ 23.,  11.,  33.,   2.],\n",
              "         [ 45.,  34., 223., 243.]]])"
            ]
          },
          "metadata": {
            "tags": []
          },
          "execution_count": 24
        }
      ]
    },
    {
      "cell_type": "code",
      "metadata": {
        "colab": {
          "base_uri": "https://localhost:8080/"
        },
        "id": "ke-Yi2uJu0pU",
        "outputId": "c1d93da5-87f4-4a46-a903-56000382803e"
      },
      "source": [
        "print(t1)\n",
        "t1.shape "
      ],
      "execution_count": null,
      "outputs": [
        {
          "output_type": "stream",
          "text": [
            "tensor(4.)\n"
          ],
          "name": "stdout"
        },
        {
          "output_type": "execute_result",
          "data": {
            "text/plain": [
              "torch.Size([])"
            ]
          },
          "metadata": {
            "tags": []
          },
          "execution_count": 28
        }
      ]
    },
    {
      "cell_type": "code",
      "metadata": {
        "colab": {
          "base_uri": "https://localhost:8080/"
        },
        "id": "qp1dHnusvAdn",
        "outputId": "c8f1ce2a-29ad-492b-ad70-6e4805295068"
      },
      "source": [
        "print(t2)\n",
        "t2.shape"
      ],
      "execution_count": null,
      "outputs": [
        {
          "output_type": "stream",
          "text": [
            "tensor([1., 2., 3., 4.])\n"
          ],
          "name": "stdout"
        },
        {
          "output_type": "execute_result",
          "data": {
            "text/plain": [
              "torch.Size([4])"
            ]
          },
          "metadata": {
            "tags": []
          },
          "execution_count": 29
        }
      ]
    },
    {
      "cell_type": "code",
      "metadata": {
        "colab": {
          "base_uri": "https://localhost:8080/"
        },
        "id": "5B7wbCuXvClD",
        "outputId": "401b22d7-4a89-42eb-e7c9-de8bafdc3223"
      },
      "source": [
        "print(t3)\n",
        "t3.shape"
      ],
      "execution_count": null,
      "outputs": [
        {
          "output_type": "stream",
          "text": [
            "tensor([[5., 6.],\n",
            "        [7., 8.],\n",
            "        [4., 3.]])\n"
          ],
          "name": "stdout"
        },
        {
          "output_type": "execute_result",
          "data": {
            "text/plain": [
              "torch.Size([3, 2])"
            ]
          },
          "metadata": {
            "tags": []
          },
          "execution_count": 46
        }
      ]
    },
    {
      "cell_type": "code",
      "metadata": {
        "colab": {
          "base_uri": "https://localhost:8080/"
        },
        "id": "7mubsVX6vEBj",
        "outputId": "b39f9c61-0519-4c8c-dddc-31ca77c86dd4"
      },
      "source": [
        "print(t4)\n",
        "t4.shape"
      ],
      "execution_count": null,
      "outputs": [
        {
          "output_type": "stream",
          "text": [
            "tensor([[[  1.,   3.,   4.,  76.],\n",
            "         [  5.,   5.,   6.,   2.],\n",
            "         [  5.,   6.,   8.,  23.]],\n",
            "\n",
            "        [[ 23.,  45.,  65.,   3.],\n",
            "         [ 23.,  11.,  33.,   2.],\n",
            "         [ 45.,  34., 223., 243.]]])\n"
          ],
          "name": "stdout"
        },
        {
          "output_type": "execute_result",
          "data": {
            "text/plain": [
              "torch.Size([2, 3, 4])"
            ]
          },
          "metadata": {
            "tags": []
          },
          "execution_count": 31
        }
      ]
    },
    {
      "cell_type": "code",
      "metadata": {
        "id": "tUl7MJaJvQpk"
      },
      "source": [
        "# tensor should have definite shape\n",
        "# and all the elements must be of same datatype"
      ],
      "execution_count": null,
      "outputs": []
    },
    {
      "cell_type": "code",
      "metadata": {
        "colab": {
          "base_uri": "https://localhost:8080/"
        },
        "id": "ikOBxukYvybq",
        "outputId": "b990b722-babb-42f4-c281-c2ea6382b68f"
      },
      "source": [
        "x = torch.tensor(3.)\n",
        "w = torch.tensor(4.,requires_grad = True)\n",
        "b = torch.tensor(5., requires_grad = True)\n",
        "x,w,b"
      ],
      "execution_count": null,
      "outputs": [
        {
          "output_type": "execute_result",
          "data": {
            "text/plain": [
              "(tensor(3.), tensor(4., requires_grad=True), tensor(5., requires_grad=True))"
            ]
          },
          "metadata": {
            "tags": []
          },
          "execution_count": 42
        }
      ]
    },
    {
      "cell_type": "code",
      "metadata": {
        "colab": {
          "base_uri": "https://localhost:8080/"
        },
        "id": "D1failqewhL7",
        "outputId": "106c1afe-cbf2-447c-c5b9-a786106f0927"
      },
      "source": [
        "y = w * x + b \n",
        "y"
      ],
      "execution_count": null,
      "outputs": [
        {
          "output_type": "execute_result",
          "data": {
            "text/plain": [
              "tensor(17., grad_fn=<AddBackward0>)"
            ]
          },
          "metadata": {
            "tags": []
          },
          "execution_count": 43
        }
      ]
    },
    {
      "cell_type": "code",
      "metadata": {
        "colab": {
          "base_uri": "https://localhost:8080/"
        },
        "id": "MuB0uGgEwrp1",
        "outputId": "4d5344ec-a94c-4c26-a3ad-3da9b64f3eed"
      },
      "source": [
        "y.backward()     # computing gradients\n",
        "print('dy/dx:', x.grad)  # none because we do not mentioned the requires grad parameter\n",
        "print('dy/dw:', w.grad)\n",
        "print('dy/db:', b.grad)"
      ],
      "execution_count": null,
      "outputs": [
        {
          "output_type": "stream",
          "text": [
            "dy/dx: None\n",
            "dy/dw: tensor(3.)\n",
            "dy/db: tensor(1.)\n"
          ],
          "name": "stdout"
        }
      ]
    },
    {
      "cell_type": "markdown",
      "metadata": {
        "id": "W-GDEvHr1lcA"
      },
      "source": [
        "The grad is short for gradient, which is another term for derivative. The gradient is primarily used while dealing with vectors and matrices.\n",
        "\n",
        "Now , apart from arithmetic operations, the torch module also contains many functions for creating and manipulating tensors. Let's look at some examples\n",
        "\n",
        "\n",
        "\n",
        "\n"
      ]
    },
    {
      "cell_type": "code",
      "metadata": {
        "colab": {
          "base_uri": "https://localhost:8080/"
        },
        "id": "tfo3tE5A0bRB",
        "outputId": "3c95e74a-7075-45aa-d252-7be6b27972ea"
      },
      "source": [
        "# create a tensor with a fixed value for every element \n",
        "t6 = torch.full((3,2),42)\n",
        "t6"
      ],
      "execution_count": null,
      "outputs": [
        {
          "output_type": "execute_result",
          "data": {
            "text/plain": [
              "tensor([[42, 42],\n",
              "        [42, 42],\n",
              "        [42, 42]])"
            ]
          },
          "metadata": {
            "tags": []
          },
          "execution_count": 45
        }
      ]
    },
    {
      "cell_type": "code",
      "metadata": {
        "colab": {
          "base_uri": "https://localhost:8080/"
        },
        "id": "2k5PTrCH2hDQ",
        "outputId": "76a29085-e0dd-4bf2-d5aa-93a29994f7b3"
      },
      "source": [
        "# concatenate two tensors with compatible shapes\n",
        "t7 = torch.cat((t3,t6))\n",
        "t7"
      ],
      "execution_count": null,
      "outputs": [
        {
          "output_type": "execute_result",
          "data": {
            "text/plain": [
              "tensor([[ 5.,  6.],\n",
              "        [ 7.,  8.],\n",
              "        [ 4.,  3.],\n",
              "        [42., 42.],\n",
              "        [42., 42.],\n",
              "        [42., 42.]])"
            ]
          },
          "metadata": {
            "tags": []
          },
          "execution_count": 49
        }
      ]
    },
    {
      "cell_type": "code",
      "metadata": {
        "colab": {
          "base_uri": "https://localhost:8080/"
        },
        "id": "eZda_dax2xO2",
        "outputId": "7c96b78d-a46a-4140-83ac-21c96831aa8a"
      },
      "source": [
        "# computing the sin of each element \n",
        "t8 = torch.sin(t7)\n",
        "t8"
      ],
      "execution_count": null,
      "outputs": [
        {
          "output_type": "execute_result",
          "data": {
            "text/plain": [
              "tensor([[-0.9589, -0.2794],\n",
              "        [ 0.6570,  0.9894],\n",
              "        [-0.7568,  0.1411],\n",
              "        [-0.9165, -0.9165],\n",
              "        [-0.9165, -0.9165],\n",
              "        [-0.9165, -0.9165]])"
            ]
          },
          "metadata": {
            "tags": []
          },
          "execution_count": 51
        }
      ]
    },
    {
      "cell_type": "code",
      "metadata": {
        "colab": {
          "base_uri": "https://localhost:8080/"
        },
        "id": "DwwK5sRn4J4M",
        "outputId": "338bed45-b7b9-45a2-d30f-9284886c5281"
      },
      "source": [
        "# changing the shape of tensor\n",
        "t9 = t8.reshape(4,3,1)\n",
        "t9"
      ],
      "execution_count": null,
      "outputs": [
        {
          "output_type": "execute_result",
          "data": {
            "text/plain": [
              "tensor([[[-0.9589],\n",
              "         [-0.2794],\n",
              "         [ 0.6570]],\n",
              "\n",
              "        [[ 0.9894],\n",
              "         [-0.7568],\n",
              "         [ 0.1411]],\n",
              "\n",
              "        [[-0.9165],\n",
              "         [-0.9165],\n",
              "         [-0.9165]],\n",
              "\n",
              "        [[-0.9165],\n",
              "         [-0.9165],\n",
              "         [-0.9165]]])"
            ]
          },
          "metadata": {
            "tags": []
          },
          "execution_count": 53
        }
      ]
    },
    {
      "cell_type": "markdown",
      "metadata": {
        "id": "1xnk4cdQ_Jw1"
      },
      "source": [
        "You can learn more about tensor operations here: https://pytorch.org/docs/stable/torch.html . Experiment with some more tensor functions and operations using the empty cells below."
      ]
    },
    {
      "cell_type": "code",
      "metadata": {
        "colab": {
          "base_uri": "https://localhost:8080/"
        },
        "id": "sH4brv5w_LLb",
        "outputId": "ace95880-69f7-44d4-e120-6e109036f37a"
      },
      "source": [
        "import numpy as np\n",
        "x = np.array([[1,2],[3,4]]) \n",
        "x"
      ],
      "execution_count": null,
      "outputs": [
        {
          "output_type": "execute_result",
          "data": {
            "text/plain": [
              "array([[1, 2],\n",
              "       [3, 4]])"
            ]
          },
          "metadata": {
            "tags": []
          },
          "execution_count": 54
        }
      ]
    },
    {
      "cell_type": "code",
      "metadata": {
        "colab": {
          "base_uri": "https://localhost:8080/"
        },
        "id": "dY9ukh8ECP3A",
        "outputId": "75847be1-e9f2-4c2f-ed56-4180bfce72d5"
      },
      "source": [
        "# lets convert numpy array into torch tensor\n",
        "y = torch.from_numpy(x)\n",
        "y"
      ],
      "execution_count": null,
      "outputs": [
        {
          "output_type": "execute_result",
          "data": {
            "text/plain": [
              "tensor([[1, 2],\n",
              "        [3, 4]])"
            ]
          },
          "metadata": {
            "tags": []
          },
          "execution_count": 55
        }
      ]
    },
    {
      "cell_type": "code",
      "metadata": {
        "colab": {
          "base_uri": "https://localhost:8080/"
        },
        "id": "zuionOzWEvph",
        "outputId": "19d6427a-54bd-4136-ecaf-2459e1af6051"
      },
      "source": [
        "x.dtype,y.dtype"
      ],
      "execution_count": null,
      "outputs": [
        {
          "output_type": "execute_result",
          "data": {
            "text/plain": [
              "(dtype('int64'), torch.int64)"
            ]
          },
          "metadata": {
            "tags": []
          },
          "execution_count": 56
        }
      ]
    },
    {
      "cell_type": "code",
      "metadata": {
        "colab": {
          "base_uri": "https://localhost:8080/"
        },
        "id": "cKVw4M65E-si",
        "outputId": "f8857747-d520-478b-ff8b-d5d5e58c4aa5"
      },
      "source": [
        "# lets convert torch tensor to numpy array\n",
        "z = y.numpy()\n",
        "z"
      ],
      "execution_count": null,
      "outputs": [
        {
          "output_type": "execute_result",
          "data": {
            "text/plain": [
              "array([[1, 2],\n",
              "       [3, 4]])"
            ]
          },
          "metadata": {
            "tags": []
          },
          "execution_count": 58
        }
      ]
    },
    {
      "cell_type": "code",
      "metadata": {
        "id": "kP3laSvQGWpD"
      },
      "source": [
        ""
      ],
      "execution_count": null,
      "outputs": []
    },
    {
      "cell_type": "markdown",
      "metadata": {
        "id": "vSuMyhseH53c"
      },
      "source": [
        "Why we need a library like PyTorch at all since Numpy already provides data structures and utilities for working with multi-dimensional numeric data. There are two main reasons:\n",
        "1. Autograd: The ability to automatically compute gradients for tensor operations is essential for training deep learning models.\n",
        "2. GPU support: While working with massive datasets and large models, PyTorch tensor operations can be performed efficiently using a Graphics Processing Unit (GPU). Computations that might typically take hours can be completed within minutes using GPUs."
      ]
    },
    {
      "cell_type": "code",
      "metadata": {
        "id": "loaBaCUXIDWj"
      },
      "source": [
        ""
      ],
      "execution_count": null,
      "outputs": []
    },
    {
      "cell_type": "markdown",
      "metadata": {
        "id": "WdH8ybcoL3eS"
      },
      "source": [
        ""
      ]
    },
    {
      "cell_type": "markdown",
      "metadata": {
        "id": "thC2-L4rmzpN"
      },
      "source": [
        "## Summary and Further Reading\n",
        "\n",
        "Try out this assignment to learn more about tensor operations in PyTorch: https://jovian.ai/aakashns/01-tensor-operations\n",
        "\n",
        "\n",
        "This tutorial covers the following topics:\n",
        "\n",
        "* Introductions to PyTorch tensors\n",
        "* Tensor operations and gradients\n",
        "* Interoperability between PyTorch and Numpy\n",
        "\n",
        "\n",
        "You can learn more about PyTorch tensors here: https://pytorch.org/docs/stable/tensors.html. \n",
        "\n",
        "\n",
        "The material in this series is inspired by:\n",
        "\n",
        "* [PyTorch Tutorial for Deep Learning Researchers](https://github.com/yunjey/pytorch-tutorial) by Yunjey Choi \n",
        "* [FastAI development notebooks](https://github.com/fastai/fastai_docs/tree/master/dev_nb) by Jeremy Howard. \n",
        "\n",
        "With this, we complete our discussion of tensors and gradients in PyTorch, and we're ready to move on to the next topic: [Gradient Descent & Linear Regression](https://jovian.ai/aakashns/02-linear-regression)."
      ]
    },
    {
      "cell_type": "code",
      "metadata": {
        "id": "LZROd82WL4kc"
      },
      "source": [
        ""
      ],
      "execution_count": null,
      "outputs": []
    },
    {
      "cell_type": "markdown",
      "metadata": {
        "id": "fvMo7XkiMFBs"
      },
      "source": [
        "Questions for Review\n",
        "Try answering the following questions to test your understanding of the topics covered in this notebook:\n",
        "\n",
        "1. What is PyTorch?\n",
        "2. What is a Jupyter notebook?\n",
        "3. What is Google Colab?\n",
        "4. How do you install PyTorch?\n",
        "5. How do you import the torch module?\n",
        "6. What is a vector? Give an example.\n",
        "7. What is a matrix? Give an example.\n",
        "8. What is a tensor?\n",
        "9. How do you create a PyTorch tensor?Illustrate with examples.\n",
        "10. What is the difference between a tensor and a vector or a matrix?\n",
        "11. Is every tensor a matrix?\n",
        "12. Is every matrix a tensor?\n",
        "13. What does the dtype property of a tensor represent?\n",
        "14. Is it possible to create a tensor with elements of different data types?\n",
        "15. How do you inspect the number of dimensions of a tensor and the length along each dimension?\n",
        "16. Is it possible to create a tensor with the values [[1, 2, 3], [4, 5]]? Why or why not?\n",
        "17. How do you perform arithmetic operations on tensors? Illustrate with examples?\n",
        "18. What happens if you specify requires_grad=True while creating a tensor? Illustrate with an example.\n",
        "19. What is autograd in PyTorch? How is it useful?\n",
        "20. What happens when you invoke the backward method of a tensor?\n",
        "\n",
        "21. How do you check the derivates of a result tensor w.r.t. the tensors used to compute its value?\n",
        "\n",
        "22. Give some examples of functions available in the torch module for creating tensors.\n",
        "\n",
        "23. Give some examples of functions available in the torch module for performing mathematical operations on tensors.\n",
        "\n",
        "24. Where can you find the list of tensor operations available in PyTorch?\n",
        "\n",
        "25. What is Numpy?\n",
        "26. How do you create a Numpy array?\n",
        "\n",
        "27. How do you create a PyTorch tensor using a Numpy array?\n",
        "\n",
        "28. How do you create a Numpy array using a PyTorch tensor?\n",
        "\n",
        "29. Why is interoperability between PyTorch and Numpy important?\n",
        "\n",
        "30. What is the purpose of a library like PyTorch if Numpy already provides data structures and utilities to with multi-dimensional numeric data?"
      ]
    },
    {
      "cell_type": "code",
      "metadata": {
        "id": "huzizby4MFnX"
      },
      "source": [
        ""
      ],
      "execution_count": null,
      "outputs": []
    }
  ]
}